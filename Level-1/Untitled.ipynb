{
 "cells": [
  {
   "cell_type": "code",
   "execution_count": null,
   "id": "5767d1a3",
   "metadata": {},
   "outputs": [],
   "source": []
  },
  {
   "cell_type": "markdown",
   "id": "95328ba0",
   "metadata": {},
   "source": [
    "# Assignment 1 : Statistics and Probability"
   ]
  },
  {
   "cell_type": "code",
   "execution_count": 1,
   "id": "d4d05927",
   "metadata": {},
   "outputs": [],
   "source": [
    "import pandas as pd\n",
    "import numpy as np\n",
    "import matplotlib.pyplot as plt\n",
    "%matplotlib inline\n",
    "import warnings\n",
    "warnings.filterwarnings(\"ignore\")\n",
    "import seaborn as sns\n",
    "import math\n",
    "import statistics\n",
    "import scipy.stats as stats\n"
   ]
  },
  {
   "cell_type": "markdown",
   "id": "dbed8d10",
   "metadata": {},
   "source": [
    "<font color='green'> <b> Question 1: </b> </font>"
   ]
  },
  {
   "cell_type": "markdown",
   "id": "3ace0885",
   "metadata": {},
   "source": [
    "Solved in .doc file"
   ]
  },
  {
   "cell_type": "code",
   "execution_count": null,
   "id": "95ad88e8",
   "metadata": {},
   "outputs": [],
   "source": []
  },
  {
   "cell_type": "markdown",
   "id": "726d964b",
   "metadata": {},
   "source": [
    "<font color='red'> <b> Question 2: </b> </font>  <br>\n",
    "<br> Solved in .doc file"
   ]
  },
  {
   "cell_type": "code",
   "execution_count": null,
   "id": "e01a60ba",
   "metadata": {},
   "outputs": [],
   "source": []
  },
  {
   "cell_type": "markdown",
   "id": "d59ed207",
   "metadata": {},
   "source": [
    "<b> Question 3: </b>"
   ]
  },
  {
   "cell_type": "code",
   "execution_count": 2,
   "id": "1353f6bd",
   "metadata": {},
   "outputs": [
    {
     "name": "stdout",
     "output_type": "stream",
     "text": [
      "0.3750000000000001\n"
     ]
    }
   ],
   "source": [
    "#Three Coins are tossed, find the probability that two heads and one tail are obtained?\n",
    "''' \n",
    "heads (H) = 2 \n",
    "tails (T) = 1\n",
    "total sample space  = (events on each experiment)^(number of experiment)\n",
    "                    = 2^3\n",
    "                    = 8\n",
    "P(H) = 2/8\n",
    "p(T) = 1/8\n",
    "required_probability = 2/8 + 1/8\n",
    "                  = 3/8\n",
    "                  \n",
    "'''\n",
    "from scipy import stats\n",
    "#n=number of haids\n",
    "#r=no of events events\n",
    "#p=probability of getting head in one event\n",
    "prob = stats.binom.pmf(2,3,0.5)\n",
    "print(prob)"
   ]
  },
  {
   "cell_type": "code",
   "execution_count": 3,
   "id": "0fcdb9f6",
   "metadata": {},
   "outputs": [
    {
     "name": "stdout",
     "output_type": "stream",
     "text": [
      "Probability of getting two heads and one tail =  0.375\n"
     ]
    }
   ],
   "source": [
    "from scipy.special import comb\n",
    "n = 3 #we are tossing two coins\n",
    "k = 2 #2 outcomes in one event\n",
    "p = 0.5 #probbility of each outcome\n",
    "#using binomail distribution formula\n",
    "probability = comb(n,k) * p**k * (1-p)**(n-k)\n",
    "print(\"Probability of getting two heads and one tail = \", probability)"
   ]
  },
  {
   "cell_type": "markdown",
   "id": "5de53cfa",
   "metadata": {},
   "source": [
    "<b> Question 4 </b>"
   ]
  },
  {
   "cell_type": "markdown",
   "id": "0887343b",
   "metadata": {},
   "source": [
    "Q4)  Two Dice are rolled, find the probability that sum is: <br>\n",
    "a)\tEqual to 1 <br>\n",
    "b)\tLess than or equal to 4 <br>\n",
    "c)\tSum is divisible by 2 and  3  <br>\n"
   ]
  },
  {
   "cell_type": "code",
   "execution_count": 4,
   "id": "93a868e5",
   "metadata": {},
   "outputs": [
    {
     "name": "stdout",
     "output_type": "stream",
     "text": [
      "Probability of getting sum Equal to 1 =  0.0\n"
     ]
    }
   ],
   "source": [
    "#a) equalto 1\n",
    "num = 0\n",
    "deno = 36 #total possible outcomes (6 outcomes in each dice)\n",
    "\n",
    "for i in range(1,7):\n",
    "    for j in range(1,7):\n",
    "        if i+j == 1:\n",
    "            num += 1\n",
    "            \n",
    "prob = num/deno\n",
    "print(\"Probability of getting sum Equal to 1 = \", prob)"
   ]
  },
  {
   "cell_type": "code",
   "execution_count": 5,
   "id": "2448223f",
   "metadata": {},
   "outputs": [
    {
     "name": "stdout",
     "output_type": "stream",
     "text": [
      "number of required outcomes =  6\n",
      "Probability of getting sum less or equal to 4 =  0.16666666666666666\n"
     ]
    }
   ],
   "source": [
    "#b) less than or equal to 4\n",
    "count = 0\n",
    "deno = 36\n",
    "for i in range(1,7):\n",
    "    for j in range(1,7):\n",
    "        num = i+j\n",
    "        if num<=4:\n",
    "            count += 1\n",
    "print(\"number of required outcomes = \",count)\n",
    "print(\"Probability of getting sum less or equal to 4 = \", count/deno)"
   ]
  },
  {
   "cell_type": "code",
   "execution_count": 6,
   "id": "ff447071",
   "metadata": {},
   "outputs": [
    {
     "data": {
      "text/plain": [
       "'import random\\ndef roll_dice():\\n    return random.randint(1,6)\\ndef roll_dice2():\\n    return roll_dice() + roll_dice()\\n\\ndef prob_sum_lessorequal4(nums):\\n    outcome = 0\\n    sum_dice = roll_dice2()\\n    if sum_dice<=4:\\n        outcome += 1\\n    return outcome/nums\\n\\nprint(prob_sum_lessorequal4(2))\\n '"
      ]
     },
     "execution_count": 6,
     "metadata": {},
     "output_type": "execute_result"
    }
   ],
   "source": [
    "'''import random\n",
    "def roll_dice():\n",
    "    return random.randint(1,6)\n",
    "def roll_dice2():\n",
    "    return roll_dice() + roll_dice()\n",
    "\n",
    "def prob_sum_lessorequal4(nums):\n",
    "    outcome = 0\n",
    "    sum_dice = roll_dice2()\n",
    "    if sum_dice<=4:\n",
    "        outcome += 1\n",
    "    return outcome/nums\n",
    "\n",
    "print(prob_sum_lessorequal4(2))\n",
    " '''       \n",
    "    \n",
    "    "
   ]
  },
  {
   "cell_type": "code",
   "execution_count": 7,
   "id": "afc95ea8",
   "metadata": {},
   "outputs": [
    {
     "name": "stdout",
     "output_type": "stream",
     "text": [
      "total sum of numbers divisible by both 2 and 3 are:  6\n",
      "Probability =  0.16666666666666666\n"
     ]
    }
   ],
   "source": [
    "#c) \n",
    "count = 0\n",
    "deno = 36\n",
    "for i in range(1,7):\n",
    "    for j in range(1,7):\n",
    "        num = i+j\n",
    "        if num%2==0 and num%3==0:\n",
    "            count += 1\n",
    "            \n",
    "print(\"total sum of numbers divisible by both 2 and 3 are: \",count)\n",
    "print(\"Probability = \", count/deno)\n",
    "        "
   ]
  },
  {
   "cell_type": "markdown",
   "id": "afb5aa3e",
   "metadata": {},
   "source": [
    "<b> Question 5 </b>\n",
    "\n",
    "<br> A bag contains 2 red, 3 green and 2 blue balls. Two balls are drawn at random. What is the probability that none of the balls drawn is blue?"
   ]
  },
  {
   "cell_type": "code",
   "execution_count": 8,
   "id": "ae70abdf",
   "metadata": {},
   "outputs": [
    {
     "name": "stdout",
     "output_type": "stream",
     "text": [
      "Total number of outcomes =  21\n",
      "Total number of non blue outcomes =  10\n",
      "Probability of non blue outcomes =  0.47619047619047616\n"
     ]
    }
   ],
   "source": [
    "'''\n",
    "total balls = 2+3+2=7 \n",
    "n(s) = number of ways to draw 2 balls out of 7\n",
    "     = combo(7,2)\n",
    "     = 21\n",
    "n(E) = number of ways of drawing 2 balls out of 5(2red and 3green)\n",
    "     = combo(5,2)\n",
    "required probability = n(s)/n(E)\n",
    "                     = 10/21\n",
    "'''\n",
    "\n",
    "import math \n",
    "total_balls = 7\n",
    "blue = 2\n",
    "total_ways = math.comb(7,2)\n",
    "print(\"Total number of outcomes = \",total_ways)\n",
    "non_blue = math.comb(5,2)\n",
    "print(\"Total number of non blue outcomes = \", non_blue)\n",
    "print(\"Probability of non blue outcomes = \", non_blue/total_ways)"
   ]
  },
  {
   "cell_type": "markdown",
   "id": "e9473467",
   "metadata": {},
   "source": [
    "<b> Question 6 </b> <br>\n",
    "Calculate the Expected number of candies for a randomly selected child \n",
    "Below are the probabilities of count of candies for children (ignoring the nature of the child-Generalized view)\n"
   ]
  },
  {
   "cell_type": "code",
   "execution_count": 9,
   "id": "15613855",
   "metadata": {},
   "outputs": [
    {
     "data": {
      "text/plain": [
       "3.09"
      ]
     },
     "execution_count": 9,
     "metadata": {},
     "output_type": "execute_result"
    }
   ],
   "source": [
    "def expected_value(value, weigh):\n",
    "    value = np.array(value)\n",
    "    weigh = np.array(weigh)\n",
    "    return (value*weigh).sum()/weigh.sum()\n",
    "\n",
    "candies_count = [1,4,3,5,6,2]\n",
    "prob = [0.015,0.20,0.65,0.005,0.01,0.120]\n",
    "expected_value(candies_count, prob)"
   ]
  },
  {
   "cell_type": "markdown",
   "id": "66de0023",
   "metadata": {},
   "source": [
    "<b> Question 7 </b> <br>\n",
    "Calculate Mean, Median, Mode, Variance, Standard Deviation, Range &     comment about the values / draw inferences, for the given dataset\n",
    "-\tFor Points,Score,Weigh<br>\n",
    "Find Mean, Median, Mode, Variance, Standard Deviation, and Range and also Comment about the values/ Draw some inferences.\n"
   ]
  },
  {
   "cell_type": "code",
   "execution_count": 10,
   "id": "5838f202",
   "metadata": {},
   "outputs": [
    {
     "data": {
      "text/html": [
       "<div>\n",
       "<style scoped>\n",
       "    .dataframe tbody tr th:only-of-type {\n",
       "        vertical-align: middle;\n",
       "    }\n",
       "\n",
       "    .dataframe tbody tr th {\n",
       "        vertical-align: top;\n",
       "    }\n",
       "\n",
       "    .dataframe thead th {\n",
       "        text-align: right;\n",
       "    }\n",
       "</style>\n",
       "<table border=\"1\" class=\"dataframe\">\n",
       "  <thead>\n",
       "    <tr style=\"text-align: right;\">\n",
       "      <th></th>\n",
       "      <th>Unnamed: 0</th>\n",
       "      <th>Points</th>\n",
       "      <th>Score</th>\n",
       "      <th>Weigh</th>\n",
       "    </tr>\n",
       "  </thead>\n",
       "  <tbody>\n",
       "    <tr>\n",
       "      <th>0</th>\n",
       "      <td>Mazda RX4</td>\n",
       "      <td>3.900000</td>\n",
       "      <td>2.620000</td>\n",
       "      <td>16.460000</td>\n",
       "    </tr>\n",
       "    <tr>\n",
       "      <th>1</th>\n",
       "      <td>Mazda RX4 Wag</td>\n",
       "      <td>3.900000</td>\n",
       "      <td>2.875000</td>\n",
       "      <td>17.020000</td>\n",
       "    </tr>\n",
       "    <tr>\n",
       "      <th>2</th>\n",
       "      <td>Datsun 710</td>\n",
       "      <td>3.850000</td>\n",
       "      <td>2.320000</td>\n",
       "      <td>18.610000</td>\n",
       "    </tr>\n",
       "    <tr>\n",
       "      <th>3</th>\n",
       "      <td>Hornet 4 Drive</td>\n",
       "      <td>3.080000</td>\n",
       "      <td>3.215000</td>\n",
       "      <td>19.440000</td>\n",
       "    </tr>\n",
       "    <tr>\n",
       "      <th>4</th>\n",
       "      <td>Hornet Sportabout</td>\n",
       "      <td>3.150000</td>\n",
       "      <td>3.440000</td>\n",
       "      <td>17.020000</td>\n",
       "    </tr>\n",
       "    <tr>\n",
       "      <th>5</th>\n",
       "      <td>Valiant</td>\n",
       "      <td>2.760000</td>\n",
       "      <td>3.460000</td>\n",
       "      <td>20.220000</td>\n",
       "    </tr>\n",
       "    <tr>\n",
       "      <th>6</th>\n",
       "      <td>Duster 360</td>\n",
       "      <td>3.210000</td>\n",
       "      <td>3.570000</td>\n",
       "      <td>15.840000</td>\n",
       "    </tr>\n",
       "    <tr>\n",
       "      <th>7</th>\n",
       "      <td>Merc 240D</td>\n",
       "      <td>3.690000</td>\n",
       "      <td>3.190000</td>\n",
       "      <td>20.000000</td>\n",
       "    </tr>\n",
       "    <tr>\n",
       "      <th>8</th>\n",
       "      <td>Merc 230</td>\n",
       "      <td>3.920000</td>\n",
       "      <td>3.150000</td>\n",
       "      <td>22.900000</td>\n",
       "    </tr>\n",
       "    <tr>\n",
       "      <th>9</th>\n",
       "      <td>Merc 280</td>\n",
       "      <td>3.920000</td>\n",
       "      <td>3.440000</td>\n",
       "      <td>18.300000</td>\n",
       "    </tr>\n",
       "    <tr>\n",
       "      <th>10</th>\n",
       "      <td>Merc 280C</td>\n",
       "      <td>3.920000</td>\n",
       "      <td>3.440000</td>\n",
       "      <td>18.900000</td>\n",
       "    </tr>\n",
       "    <tr>\n",
       "      <th>11</th>\n",
       "      <td>Merc 450SE</td>\n",
       "      <td>3.070000</td>\n",
       "      <td>4.070000</td>\n",
       "      <td>17.400000</td>\n",
       "    </tr>\n",
       "    <tr>\n",
       "      <th>12</th>\n",
       "      <td>Merc 450SL</td>\n",
       "      <td>3.070000</td>\n",
       "      <td>3.730000</td>\n",
       "      <td>17.600000</td>\n",
       "    </tr>\n",
       "    <tr>\n",
       "      <th>13</th>\n",
       "      <td>Merc 450SLC</td>\n",
       "      <td>3.070000</td>\n",
       "      <td>3.780000</td>\n",
       "      <td>18.000000</td>\n",
       "    </tr>\n",
       "    <tr>\n",
       "      <th>14</th>\n",
       "      <td>Cadillac Fleetwood</td>\n",
       "      <td>2.930000</td>\n",
       "      <td>5.250000</td>\n",
       "      <td>17.980000</td>\n",
       "    </tr>\n",
       "    <tr>\n",
       "      <th>15</th>\n",
       "      <td>Lincoln Continental</td>\n",
       "      <td>3.000000</td>\n",
       "      <td>5.424000</td>\n",
       "      <td>17.820000</td>\n",
       "    </tr>\n",
       "    <tr>\n",
       "      <th>16</th>\n",
       "      <td>Chrysler Imperial</td>\n",
       "      <td>3.230000</td>\n",
       "      <td>5.345000</td>\n",
       "      <td>17.420000</td>\n",
       "    </tr>\n",
       "    <tr>\n",
       "      <th>17</th>\n",
       "      <td>Fiat 128</td>\n",
       "      <td>4.080000</td>\n",
       "      <td>2.200000</td>\n",
       "      <td>19.470000</td>\n",
       "    </tr>\n",
       "    <tr>\n",
       "      <th>18</th>\n",
       "      <td>Honda Civic</td>\n",
       "      <td>4.930000</td>\n",
       "      <td>1.615000</td>\n",
       "      <td>18.520000</td>\n",
       "    </tr>\n",
       "    <tr>\n",
       "      <th>19</th>\n",
       "      <td>Toyota Corolla</td>\n",
       "      <td>4.220000</td>\n",
       "      <td>1.835000</td>\n",
       "      <td>19.900000</td>\n",
       "    </tr>\n",
       "    <tr>\n",
       "      <th>20</th>\n",
       "      <td>Toyota Corona</td>\n",
       "      <td>3.700000</td>\n",
       "      <td>2.465000</td>\n",
       "      <td>20.010000</td>\n",
       "    </tr>\n",
       "    <tr>\n",
       "      <th>21</th>\n",
       "      <td>Dodge Challenger</td>\n",
       "      <td>2.760000</td>\n",
       "      <td>3.520000</td>\n",
       "      <td>16.870000</td>\n",
       "    </tr>\n",
       "    <tr>\n",
       "      <th>22</th>\n",
       "      <td>AMC Javelin</td>\n",
       "      <td>3.150000</td>\n",
       "      <td>3.435000</td>\n",
       "      <td>17.300000</td>\n",
       "    </tr>\n",
       "    <tr>\n",
       "      <th>23</th>\n",
       "      <td>Camaro Z28</td>\n",
       "      <td>3.730000</td>\n",
       "      <td>3.840000</td>\n",
       "      <td>15.410000</td>\n",
       "    </tr>\n",
       "    <tr>\n",
       "      <th>24</th>\n",
       "      <td>Pontiac Firebird</td>\n",
       "      <td>3.080000</td>\n",
       "      <td>3.845000</td>\n",
       "      <td>17.050000</td>\n",
       "    </tr>\n",
       "    <tr>\n",
       "      <th>25</th>\n",
       "      <td>Fiat X1-9</td>\n",
       "      <td>4.080000</td>\n",
       "      <td>1.935000</td>\n",
       "      <td>18.900000</td>\n",
       "    </tr>\n",
       "    <tr>\n",
       "      <th>26</th>\n",
       "      <td>Porsche 914-2</td>\n",
       "      <td>4.430000</td>\n",
       "      <td>2.140000</td>\n",
       "      <td>16.700000</td>\n",
       "    </tr>\n",
       "    <tr>\n",
       "      <th>27</th>\n",
       "      <td>Lotus Europa</td>\n",
       "      <td>3.770000</td>\n",
       "      <td>1.513000</td>\n",
       "      <td>16.900000</td>\n",
       "    </tr>\n",
       "    <tr>\n",
       "      <th>28</th>\n",
       "      <td>Ford Pantera L</td>\n",
       "      <td>4.220000</td>\n",
       "      <td>3.170000</td>\n",
       "      <td>14.500000</td>\n",
       "    </tr>\n",
       "    <tr>\n",
       "      <th>29</th>\n",
       "      <td>Ferrari Dino</td>\n",
       "      <td>3.620000</td>\n",
       "      <td>2.770000</td>\n",
       "      <td>15.500000</td>\n",
       "    </tr>\n",
       "    <tr>\n",
       "      <th>30</th>\n",
       "      <td>Maserati Bora</td>\n",
       "      <td>3.540000</td>\n",
       "      <td>3.570000</td>\n",
       "      <td>14.600000</td>\n",
       "    </tr>\n",
       "    <tr>\n",
       "      <th>31</th>\n",
       "      <td>Volvo 142E</td>\n",
       "      <td>4.110000</td>\n",
       "      <td>2.780000</td>\n",
       "      <td>18.600000</td>\n",
       "    </tr>\n",
       "    <tr>\n",
       "      <th>32</th>\n",
       "      <td>NaN</td>\n",
       "      <td>NaN</td>\n",
       "      <td>NaN</td>\n",
       "      <td>NaN</td>\n",
       "    </tr>\n",
       "    <tr>\n",
       "      <th>33</th>\n",
       "      <td>Mean</td>\n",
       "      <td>3.596563</td>\n",
       "      <td>3.217250</td>\n",
       "      <td>17.848750</td>\n",
       "    </tr>\n",
       "    <tr>\n",
       "      <th>34</th>\n",
       "      <td>Median</td>\n",
       "      <td>3.695000</td>\n",
       "      <td>3.325000</td>\n",
       "      <td>17.710000</td>\n",
       "    </tr>\n",
       "    <tr>\n",
       "      <th>35</th>\n",
       "      <td>Mode</td>\n",
       "      <td>3.920000</td>\n",
       "      <td>-3.440000</td>\n",
       "      <td>NaN</td>\n",
       "    </tr>\n",
       "    <tr>\n",
       "      <th>36</th>\n",
       "      <td>Variance</td>\n",
       "      <td>0.276948</td>\n",
       "      <td>0.927461</td>\n",
       "      <td>3.093380</td>\n",
       "    </tr>\n",
       "    <tr>\n",
       "      <th>37</th>\n",
       "      <td>Std_dev</td>\n",
       "      <td>0.526258</td>\n",
       "      <td>0.963048</td>\n",
       "      <td>1.758801</td>\n",
       "    </tr>\n",
       "    <tr>\n",
       "      <th>38</th>\n",
       "      <td>Range</td>\n",
       "      <td>2.170000</td>\n",
       "      <td>3.911000</td>\n",
       "      <td>8.400000</td>\n",
       "    </tr>\n",
       "  </tbody>\n",
       "</table>\n",
       "</div>"
      ],
      "text/plain": [
       "             Unnamed: 0    Points     Score      Weigh\n",
       "0             Mazda RX4  3.900000  2.620000  16.460000\n",
       "1         Mazda RX4 Wag  3.900000  2.875000  17.020000\n",
       "2            Datsun 710  3.850000  2.320000  18.610000\n",
       "3        Hornet 4 Drive  3.080000  3.215000  19.440000\n",
       "4     Hornet Sportabout  3.150000  3.440000  17.020000\n",
       "5               Valiant  2.760000  3.460000  20.220000\n",
       "6            Duster 360  3.210000  3.570000  15.840000\n",
       "7             Merc 240D  3.690000  3.190000  20.000000\n",
       "8              Merc 230  3.920000  3.150000  22.900000\n",
       "9              Merc 280  3.920000  3.440000  18.300000\n",
       "10            Merc 280C  3.920000  3.440000  18.900000\n",
       "11           Merc 450SE  3.070000  4.070000  17.400000\n",
       "12           Merc 450SL  3.070000  3.730000  17.600000\n",
       "13          Merc 450SLC  3.070000  3.780000  18.000000\n",
       "14   Cadillac Fleetwood  2.930000  5.250000  17.980000\n",
       "15  Lincoln Continental  3.000000  5.424000  17.820000\n",
       "16    Chrysler Imperial  3.230000  5.345000  17.420000\n",
       "17             Fiat 128  4.080000  2.200000  19.470000\n",
       "18          Honda Civic  4.930000  1.615000  18.520000\n",
       "19       Toyota Corolla  4.220000  1.835000  19.900000\n",
       "20        Toyota Corona  3.700000  2.465000  20.010000\n",
       "21     Dodge Challenger  2.760000  3.520000  16.870000\n",
       "22          AMC Javelin  3.150000  3.435000  17.300000\n",
       "23           Camaro Z28  3.730000  3.840000  15.410000\n",
       "24     Pontiac Firebird  3.080000  3.845000  17.050000\n",
       "25            Fiat X1-9  4.080000  1.935000  18.900000\n",
       "26        Porsche 914-2  4.430000  2.140000  16.700000\n",
       "27         Lotus Europa  3.770000  1.513000  16.900000\n",
       "28       Ford Pantera L  4.220000  3.170000  14.500000\n",
       "29         Ferrari Dino  3.620000  2.770000  15.500000\n",
       "30        Maserati Bora  3.540000  3.570000  14.600000\n",
       "31           Volvo 142E  4.110000  2.780000  18.600000\n",
       "32                  NaN       NaN       NaN        NaN\n",
       "33                 Mean  3.596563  3.217250  17.848750\n",
       "34               Median  3.695000  3.325000  17.710000\n",
       "35                 Mode  3.920000 -3.440000        NaN\n",
       "36             Variance  0.276948  0.927461   3.093380\n",
       "37              Std_dev  0.526258  0.963048   1.758801\n",
       "38                Range  2.170000  3.911000   8.400000"
      ]
     },
     "execution_count": 10,
     "metadata": {},
     "output_type": "execute_result"
    }
   ],
   "source": [
    "Q7 = pd.read_csv(\"Q7.csv\")\n",
    "Q7"
   ]
  },
  {
   "cell_type": "code",
   "execution_count": 11,
   "id": "8041b7c8",
   "metadata": {},
   "outputs": [],
   "source": [
    "Q7.rename(columns={\"Unnamed: 0\":\"cars\"}, inplace=True)"
   ]
  },
  {
   "cell_type": "code",
   "execution_count": 12,
   "id": "2484b08a",
   "metadata": {},
   "outputs": [
    {
     "data": {
      "text/html": [
       "<div>\n",
       "<style scoped>\n",
       "    .dataframe tbody tr th:only-of-type {\n",
       "        vertical-align: middle;\n",
       "    }\n",
       "\n",
       "    .dataframe tbody tr th {\n",
       "        vertical-align: top;\n",
       "    }\n",
       "\n",
       "    .dataframe thead th {\n",
       "        text-align: right;\n",
       "    }\n",
       "</style>\n",
       "<table border=\"1\" class=\"dataframe\">\n",
       "  <thead>\n",
       "    <tr style=\"text-align: right;\">\n",
       "      <th></th>\n",
       "      <th>cars</th>\n",
       "      <th>Points</th>\n",
       "      <th>Score</th>\n",
       "      <th>Weigh</th>\n",
       "    </tr>\n",
       "  </thead>\n",
       "  <tbody>\n",
       "    <tr>\n",
       "      <th>0</th>\n",
       "      <td>Mazda RX4</td>\n",
       "      <td>3.90</td>\n",
       "      <td>2.620</td>\n",
       "      <td>16.46</td>\n",
       "    </tr>\n",
       "    <tr>\n",
       "      <th>1</th>\n",
       "      <td>Mazda RX4 Wag</td>\n",
       "      <td>3.90</td>\n",
       "      <td>2.875</td>\n",
       "      <td>17.02</td>\n",
       "    </tr>\n",
       "    <tr>\n",
       "      <th>2</th>\n",
       "      <td>Datsun 710</td>\n",
       "      <td>3.85</td>\n",
       "      <td>2.320</td>\n",
       "      <td>18.61</td>\n",
       "    </tr>\n",
       "    <tr>\n",
       "      <th>3</th>\n",
       "      <td>Hornet 4 Drive</td>\n",
       "      <td>3.08</td>\n",
       "      <td>3.215</td>\n",
       "      <td>19.44</td>\n",
       "    </tr>\n",
       "    <tr>\n",
       "      <th>4</th>\n",
       "      <td>Hornet Sportabout</td>\n",
       "      <td>3.15</td>\n",
       "      <td>3.440</td>\n",
       "      <td>17.02</td>\n",
       "    </tr>\n",
       "  </tbody>\n",
       "</table>\n",
       "</div>"
      ],
      "text/plain": [
       "                cars  Points  Score  Weigh\n",
       "0          Mazda RX4    3.90  2.620  16.46\n",
       "1      Mazda RX4 Wag    3.90  2.875  17.02\n",
       "2         Datsun 710    3.85  2.320  18.61\n",
       "3     Hornet 4 Drive    3.08  3.215  19.44\n",
       "4  Hornet Sportabout    3.15  3.440  17.02"
      ]
     },
     "execution_count": 12,
     "metadata": {},
     "output_type": "execute_result"
    }
   ],
   "source": [
    "Q7.head()"
   ]
  },
  {
   "cell_type": "code",
   "execution_count": 13,
   "id": "bf8d2ba5",
   "metadata": {},
   "outputs": [
    {
     "name": "stdout",
     "output_type": "stream",
     "text": [
      "MEAN: \n",
      "Points     3.401968\n",
      "Score      2.943573\n",
      "Weigh     16.755971\n",
      "dtype: float64\n"
     ]
    }
   ],
   "source": [
    "print(\"MEAN: \")\n",
    "print(Q7.mean())"
   ]
  },
  {
   "cell_type": "code",
   "execution_count": 14,
   "id": "35e43052",
   "metadata": {},
   "outputs": [
    {
     "name": "stdout",
     "output_type": "stream",
     "text": [
      "MEDIAN\n",
      "Points     3.655000\n",
      "Score      3.216125\n",
      "Weigh     17.600000\n",
      "dtype: float64\n"
     ]
    }
   ],
   "source": [
    "print(\"MEDIAN\")\n",
    "print(Q7.median())"
   ]
  },
  {
   "cell_type": "code",
   "execution_count": 15,
   "id": "25217883",
   "metadata": {},
   "outputs": [
    {
     "name": "stdout",
     "output_type": "stream",
     "text": [
      "mode of points:  ModeResult(mode=array([3.92]), count=array([4]))\n",
      "mode of score:  ModeResult(mode=array([3.44]), count=array([3]))\n",
      "mode of weigh:  ModeResult(mode=array([17.02]), count=array([2]))\n"
     ]
    }
   ],
   "source": [
    "print(\"mode of points: \",stats.mode(Q7[\"Points\"]))\n",
    "print(\"mode of score: \", stats.mode(Q7[\"Score\"]))\n",
    "print(\"mode of weigh: \", stats.mode(Q7[\"Weigh\"]))"
   ]
  },
  {
   "cell_type": "code",
   "execution_count": 16,
   "id": "5e2cbca1",
   "metadata": {},
   "outputs": [
    {
     "name": "stdout",
     "output_type": "stream",
     "text": [
      "Variance\n"
     ]
    },
    {
     "data": {
      "text/plain": [
       "Points     0.811334\n",
       "Score      2.215379\n",
       "Weigh     17.241932\n",
       "dtype: float64"
      ]
     },
     "execution_count": 16,
     "metadata": {},
     "output_type": "execute_result"
    }
   ],
   "source": [
    "print(\"Variance\")\n",
    "Q7.var()"
   ]
  },
  {
   "cell_type": "code",
   "execution_count": 17,
   "id": "3e843d71",
   "metadata": {},
   "outputs": [
    {
     "name": "stdout",
     "output_type": "stream",
     "text": [
      "Standard Deviation\n"
     ]
    },
    {
     "data": {
      "text/plain": [
       "Points    0.900741\n",
       "Score     1.488415\n",
       "Weigh     4.152341\n",
       "dtype: float64"
      ]
     },
     "execution_count": 17,
     "metadata": {},
     "output_type": "execute_result"
    }
   ],
   "source": [
    "print(\"Standard Deviation\")\n",
    "Q7.std()"
   ]
  },
  {
   "cell_type": "code",
   "execution_count": 18,
   "id": "955a3fdf",
   "metadata": {},
   "outputs": [
    {
     "name": "stdout",
     "output_type": "stream",
     "text": [
      "Points----> maximum: 4.93   minimum: 0.276947559\n",
      "Score-----> maximum: 5.424   minimum: -3.44\n",
      "Weigh-----> maximum: 22.9   minimum: 1.758800639\n"
     ]
    }
   ],
   "source": [
    "print(\"Points----> maximum:\",max(Q7[\"Points\"]), \"  minimum:\", min(Q7[\"Points\"]))\n",
    "print(\"Score-----> maximum:\",max(Q7[\"Score\"]), \"  minimum:\", min(Q7[\"Score\"]))\n",
    "print(\"Weigh-----> maximum:\",max(Q7[\"Weigh\"]), \"  minimum:\", min(Q7[\"Weigh\"]))"
   ]
  },
  {
   "cell_type": "markdown",
   "id": "2ec5982e",
   "metadata": {},
   "source": [
    "Inferences"
   ]
  },
  {
   "cell_type": "code",
   "execution_count": null,
   "id": "cc1ed58c",
   "metadata": {},
   "outputs": [],
   "source": []
  },
  {
   "cell_type": "code",
   "execution_count": 19,
   "id": "dec416fd",
   "metadata": {},
   "outputs": [
    {
     "data": {
      "text/html": [
       "<div>\n",
       "<style scoped>\n",
       "    .dataframe tbody tr th:only-of-type {\n",
       "        vertical-align: middle;\n",
       "    }\n",
       "\n",
       "    .dataframe tbody tr th {\n",
       "        vertical-align: top;\n",
       "    }\n",
       "\n",
       "    .dataframe thead th {\n",
       "        text-align: right;\n",
       "    }\n",
       "</style>\n",
       "<table border=\"1\" class=\"dataframe\">\n",
       "  <thead>\n",
       "    <tr style=\"text-align: right;\">\n",
       "      <th></th>\n",
       "      <th>cars</th>\n",
       "      <th>Points</th>\n",
       "      <th>Score</th>\n",
       "      <th>Weigh</th>\n",
       "    </tr>\n",
       "  </thead>\n",
       "  <tbody>\n",
       "    <tr>\n",
       "      <th>0</th>\n",
       "      <td>Mazda RX4</td>\n",
       "      <td>3.90</td>\n",
       "      <td>2.620</td>\n",
       "      <td>16.46</td>\n",
       "    </tr>\n",
       "    <tr>\n",
       "      <th>1</th>\n",
       "      <td>Mazda RX4 Wag</td>\n",
       "      <td>3.90</td>\n",
       "      <td>2.875</td>\n",
       "      <td>17.02</td>\n",
       "    </tr>\n",
       "    <tr>\n",
       "      <th>2</th>\n",
       "      <td>Datsun 710</td>\n",
       "      <td>3.85</td>\n",
       "      <td>2.320</td>\n",
       "      <td>18.61</td>\n",
       "    </tr>\n",
       "    <tr>\n",
       "      <th>3</th>\n",
       "      <td>Hornet 4 Drive</td>\n",
       "      <td>3.08</td>\n",
       "      <td>3.215</td>\n",
       "      <td>19.44</td>\n",
       "    </tr>\n",
       "    <tr>\n",
       "      <th>4</th>\n",
       "      <td>Hornet Sportabout</td>\n",
       "      <td>3.15</td>\n",
       "      <td>3.440</td>\n",
       "      <td>17.02</td>\n",
       "    </tr>\n",
       "  </tbody>\n",
       "</table>\n",
       "</div>"
      ],
      "text/plain": [
       "                cars  Points  Score  Weigh\n",
       "0          Mazda RX4    3.90  2.620  16.46\n",
       "1      Mazda RX4 Wag    3.90  2.875  17.02\n",
       "2         Datsun 710    3.85  2.320  18.61\n",
       "3     Hornet 4 Drive    3.08  3.215  19.44\n",
       "4  Hornet Sportabout    3.15  3.440  17.02"
      ]
     },
     "execution_count": 19,
     "metadata": {},
     "output_type": "execute_result"
    }
   ],
   "source": [
    "Q7.head()"
   ]
  },
  {
   "cell_type": "code",
   "execution_count": 20,
   "id": "aabd8ea5",
   "metadata": {},
   "outputs": [
    {
     "data": {
      "text/html": [
       "<div>\n",
       "<style scoped>\n",
       "    .dataframe tbody tr th:only-of-type {\n",
       "        vertical-align: middle;\n",
       "    }\n",
       "\n",
       "    .dataframe tbody tr th {\n",
       "        vertical-align: top;\n",
       "    }\n",
       "\n",
       "    .dataframe thead th {\n",
       "        text-align: right;\n",
       "    }\n",
       "</style>\n",
       "<table border=\"1\" class=\"dataframe\">\n",
       "  <thead>\n",
       "    <tr style=\"text-align: right;\">\n",
       "      <th></th>\n",
       "      <th>Points</th>\n",
       "      <th>Score</th>\n",
       "      <th>Weigh</th>\n",
       "    </tr>\n",
       "  </thead>\n",
       "  <tbody>\n",
       "    <tr>\n",
       "      <th>count</th>\n",
       "      <td>38.000000</td>\n",
       "      <td>38.000000</td>\n",
       "      <td>37.000000</td>\n",
       "    </tr>\n",
       "    <tr>\n",
       "      <th>mean</th>\n",
       "      <td>3.401968</td>\n",
       "      <td>2.943573</td>\n",
       "      <td>16.755971</td>\n",
       "    </tr>\n",
       "    <tr>\n",
       "      <th>std</th>\n",
       "      <td>0.900741</td>\n",
       "      <td>1.488415</td>\n",
       "      <td>4.152341</td>\n",
       "    </tr>\n",
       "    <tr>\n",
       "      <th>min</th>\n",
       "      <td>0.276948</td>\n",
       "      <td>-3.440000</td>\n",
       "      <td>1.758801</td>\n",
       "    </tr>\n",
       "    <tr>\n",
       "      <th>25%</th>\n",
       "      <td>3.072500</td>\n",
       "      <td>2.356250</td>\n",
       "      <td>16.700000</td>\n",
       "    </tr>\n",
       "    <tr>\n",
       "      <th>50%</th>\n",
       "      <td>3.655000</td>\n",
       "      <td>3.216125</td>\n",
       "      <td>17.600000</td>\n",
       "    </tr>\n",
       "    <tr>\n",
       "      <th>75%</th>\n",
       "      <td>3.920000</td>\n",
       "      <td>3.570000</td>\n",
       "      <td>18.610000</td>\n",
       "    </tr>\n",
       "    <tr>\n",
       "      <th>max</th>\n",
       "      <td>4.930000</td>\n",
       "      <td>5.424000</td>\n",
       "      <td>22.900000</td>\n",
       "    </tr>\n",
       "  </tbody>\n",
       "</table>\n",
       "</div>"
      ],
      "text/plain": [
       "          Points      Score      Weigh\n",
       "count  38.000000  38.000000  37.000000\n",
       "mean    3.401968   2.943573  16.755971\n",
       "std     0.900741   1.488415   4.152341\n",
       "min     0.276948  -3.440000   1.758801\n",
       "25%     3.072500   2.356250  16.700000\n",
       "50%     3.655000   3.216125  17.600000\n",
       "75%     3.920000   3.570000  18.610000\n",
       "max     4.930000   5.424000  22.900000"
      ]
     },
     "execution_count": 20,
     "metadata": {},
     "output_type": "execute_result"
    }
   ],
   "source": [
    "Q7.describe()"
   ]
  },
  {
   "cell_type": "code",
   "execution_count": 21,
   "id": "0ea22edd",
   "metadata": {},
   "outputs": [
    {
     "data": {
      "image/png": "[encoded data removed]",
      "text/plain": [
       "<Figure size 640x480 with 1 Axes>"
      ]
     },
     "metadata": {},
     "output_type": "display_data"
    }
   ],
   "source": [
    "plt.hist(Q7[\"Points\"],bins=10, edgecolor=\"black\")\n",
    "plt.show()"
   ]
  },
  {
   "cell_type": "code",
   "execution_count": 22,
   "id": "e20d607c",
   "metadata": {},
   "outputs": [
    {
     "data": {
      "image/png": "[encoded data removed]",
      "text/plain": [
       "<Figure size 640x480 with 1 Axes>"
      ]
     },
     "metadata": {},
     "output_type": "display_data"
    }
   ],
   "source": [
    "plt.boxplot(x = 'Points', data =Q7)\n",
    "plt.xlabel('Points')\n",
    "plt.ylabel('Density')\n",
    "plt.show()"
   ]
  },
  {
   "cell_type": "code",
   "execution_count": null,
   "id": "360b45e2",
   "metadata": {},
   "outputs": [],
   "source": []
  },
  {
   "cell_type": "code",
   "execution_count": 24,
   "id": "7d9c0478",
   "metadata": {},
   "outputs": [
    {
     "data": {
      "image/png": "[encoded data removed]",
      "text/plain": [
       "<Figure size 640x480 with 1 Axes>"
      ]
     },
     "metadata": {},
     "output_type": "display_data"
    }
   ],
   "source": [
    "plt.hist(Q7[\"Score\"], bins=10, edgecolor=\"black\")\n",
    "plt.show()"
   ]
  },
  {
   "cell_type": "code",
   "execution_count": 25,
   "id": "2b2c6ead",
   "metadata": {},
   "outputs": [
    {
     "data": {
      "image/png": "[encoded data removed]",
      "text/plain": [
       "<Figure size 640x480 with 1 Axes>"
      ]
     },
     "metadata": {},
     "output_type": "display_data"
    }
   ],
   "source": [
    "plt.hist(Q7[\"Weigh\"], bins=10, edgecolor=\"black\")\n",
    "plt.show()"
   ]
  },
  {
   "cell_type": "code",
   "execution_count": null,
   "id": "58f035fa",
   "metadata": {},
   "outputs": [],
   "source": []
  },
  {
   "cell_type": "code",
   "execution_count": null,
   "id": "39f8dd78",
   "metadata": {},
   "outputs": [],
   "source": []
  },
  {
   "cell_type": "code",
   "execution_count": null,
   "id": "8a9ef3fb",
   "metadata": {},
   "outputs": [],
   "source": []
  },
  {
   "cell_type": "code",
   "execution_count": null,
   "id": "f8eccb44",
   "metadata": {},
   "outputs": [],
   "source": []
  },
  {
   "cell_type": "markdown",
   "id": "2bae0397",
   "metadata": {},
   "source": [
    "<b> Question 8 </b>\n"
   ]
  },
  {
   "cell_type": "code",
   "execution_count": 26,
   "id": "23a809d1",
   "metadata": {},
   "outputs": [
    {
     "data": {
      "text/plain": [
       "145.33333333333331"
      ]
     },
     "execution_count": 26,
     "metadata": {},
     "output_type": "execute_result"
    }
   ],
   "source": [
    "weigh = [108,110,123,134,135,145,167,187,199]\n",
    "prob = [1/9,1/9,1/9,1/9,1/9,1/9,1/9,1/9,1/9]\n",
    "expected_value(weigh, prob)"
   ]
  },
  {
   "cell_type": "code",
   "execution_count": null,
   "id": "ad442dfd",
   "metadata": {},
   "outputs": [],
   "source": []
  },
  {
   "cell_type": "markdown",
   "id": "f292c285",
   "metadata": {},
   "source": [
    "<b> Question 9 </b>"
   ]
  },
  {
   "cell_type": "markdown",
   "id": "8ca05cbc",
   "metadata": {},
   "source": [
    "a)"
   ]
  },
  {
   "cell_type": "code",
   "execution_count": 27,
   "id": "8a720c52",
   "metadata": {},
   "outputs": [
    {
     "data": {
      "text/html": [
       "<div>\n",
       "<style scoped>\n",
       "    .dataframe tbody tr th:only-of-type {\n",
       "        vertical-align: middle;\n",
       "    }\n",
       "\n",
       "    .dataframe tbody tr th {\n",
       "        vertical-align: top;\n",
       "    }\n",
       "\n",
       "    .dataframe thead th {\n",
       "        text-align: right;\n",
       "    }\n",
       "</style>\n",
       "<table border=\"1\" class=\"dataframe\">\n",
       "  <thead>\n",
       "    <tr style=\"text-align: right;\">\n",
       "      <th></th>\n",
       "      <th>Index</th>\n",
       "      <th>speed</th>\n",
       "      <th>dist</th>\n",
       "    </tr>\n",
       "  </thead>\n",
       "  <tbody>\n",
       "    <tr>\n",
       "      <th>0</th>\n",
       "      <td>1</td>\n",
       "      <td>4</td>\n",
       "      <td>2</td>\n",
       "    </tr>\n",
       "    <tr>\n",
       "      <th>1</th>\n",
       "      <td>2</td>\n",
       "      <td>4</td>\n",
       "      <td>10</td>\n",
       "    </tr>\n",
       "    <tr>\n",
       "      <th>2</th>\n",
       "      <td>3</td>\n",
       "      <td>7</td>\n",
       "      <td>4</td>\n",
       "    </tr>\n",
       "    <tr>\n",
       "      <th>3</th>\n",
       "      <td>4</td>\n",
       "      <td>7</td>\n",
       "      <td>22</td>\n",
       "    </tr>\n",
       "    <tr>\n",
       "      <th>4</th>\n",
       "      <td>5</td>\n",
       "      <td>8</td>\n",
       "      <td>16</td>\n",
       "    </tr>\n",
       "  </tbody>\n",
       "</table>\n",
       "</div>"
      ],
      "text/plain": [
       "   Index  speed  dist\n",
       "0      1      4     2\n",
       "1      2      4    10\n",
       "2      3      7     4\n",
       "3      4      7    22\n",
       "4      5      8    16"
      ]
     },
     "execution_count": 27,
     "metadata": {},
     "output_type": "execute_result"
    }
   ],
   "source": [
    "Q9 = pd.read_csv(\"Q9_a (1).csv\")\n",
    "Q9.head()"
   ]
  },
  {
   "cell_type": "code",
   "execution_count": 28,
   "id": "b0b3660d",
   "metadata": {},
   "outputs": [
    {
     "name": "stdout",
     "output_type": "stream",
     "text": [
      "Skewness of the Speed is:  -0.12\n",
      "Kurtosis of the Speed is:  -0.51\n"
     ]
    }
   ],
   "source": [
    "from scipy.stats import skew\n",
    "from scipy.stats import kurtosis\n",
    "skewness = np.round(Q9[\"speed\"].skew(),2)\n",
    "kurtosis = np.round(Q9[\"speed\"].kurtosis(),2)\n",
    "print(\"Skewness of the Speed is: \", skewness)\n",
    "print(\"Kurtosis of the Speed is: \", kurtosis)\n"
   ]
  },
  {
   "cell_type": "code",
   "execution_count": 29,
   "id": "b2aaf58b",
   "metadata": {},
   "outputs": [
    {
     "name": "stdout",
     "output_type": "stream",
     "text": [
      "Skewness of the Distance is:  0.81\n",
      "Kurtosis of the Distance is:  0.41\n"
     ]
    }
   ],
   "source": [
    "skewness = np.round(Q9[\"dist\"].skew(),2)\n",
    "kurtosis = np.round(Q9[\"dist\"].kurtosis(),2)\n",
    "print(\"Skewness of the Distance is: \", skewness)\n",
    "print(\"Kurtosis of the Distance is: \", kurtosis)\n"
   ]
  },
  {
   "cell_type": "code",
   "execution_count": 30,
   "id": "f46f9d43",
   "metadata": {},
   "outputs": [
    {
     "data": {
      "text/html": [
       "<div>\n",
       "<style scoped>\n",
       "    .dataframe tbody tr th:only-of-type {\n",
       "        vertical-align: middle;\n",
       "    }\n",
       "\n",
       "    .dataframe tbody tr th {\n",
       "        vertical-align: top;\n",
       "    }\n",
       "\n",
       "    .dataframe thead th {\n",
       "        text-align: right;\n",
       "    }\n",
       "</style>\n",
       "<table border=\"1\" class=\"dataframe\">\n",
       "  <thead>\n",
       "    <tr style=\"text-align: right;\">\n",
       "      <th></th>\n",
       "      <th>speed</th>\n",
       "      <th>dist</th>\n",
       "    </tr>\n",
       "  </thead>\n",
       "  <tbody>\n",
       "    <tr>\n",
       "      <th>speed</th>\n",
       "      <td>1.000000</td>\n",
       "      <td>0.806895</td>\n",
       "    </tr>\n",
       "    <tr>\n",
       "      <th>dist</th>\n",
       "      <td>0.806895</td>\n",
       "      <td>1.000000</td>\n",
       "    </tr>\n",
       "  </tbody>\n",
       "</table>\n",
       "</div>"
      ],
      "text/plain": [
       "          speed      dist\n",
       "speed  1.000000  0.806895\n",
       "dist   0.806895  1.000000"
      ]
     },
     "execution_count": 30,
     "metadata": {},
     "output_type": "execute_result"
    }
   ],
   "source": [
    "Q9[[\"speed\", \"dist\"]].corr()"
   ]
  },
  {
   "cell_type": "markdown",
   "id": "dacdf50b",
   "metadata": {},
   "source": [
    "b)"
   ]
  },
  {
   "cell_type": "code",
   "execution_count": 31,
   "id": "545d0682",
   "metadata": {},
   "outputs": [
    {
     "data": {
      "text/html": [
       "<div>\n",
       "<style scoped>\n",
       "    .dataframe tbody tr th:only-of-type {\n",
       "        vertical-align: middle;\n",
       "    }\n",
       "\n",
       "    .dataframe tbody tr th {\n",
       "        vertical-align: top;\n",
       "    }\n",
       "\n",
       "    .dataframe thead th {\n",
       "        text-align: right;\n",
       "    }\n",
       "</style>\n",
       "<table border=\"1\" class=\"dataframe\">\n",
       "  <thead>\n",
       "    <tr style=\"text-align: right;\">\n",
       "      <th></th>\n",
       "      <th>Unnamed: 0</th>\n",
       "      <th>SP</th>\n",
       "      <th>WT</th>\n",
       "    </tr>\n",
       "  </thead>\n",
       "  <tbody>\n",
       "    <tr>\n",
       "      <th>0</th>\n",
       "      <td>1</td>\n",
       "      <td>104.185353</td>\n",
       "      <td>28.762059</td>\n",
       "    </tr>\n",
       "    <tr>\n",
       "      <th>1</th>\n",
       "      <td>2</td>\n",
       "      <td>105.461264</td>\n",
       "      <td>30.466833</td>\n",
       "    </tr>\n",
       "    <tr>\n",
       "      <th>2</th>\n",
       "      <td>3</td>\n",
       "      <td>105.461264</td>\n",
       "      <td>30.193597</td>\n",
       "    </tr>\n",
       "    <tr>\n",
       "      <th>3</th>\n",
       "      <td>4</td>\n",
       "      <td>113.461264</td>\n",
       "      <td>30.632114</td>\n",
       "    </tr>\n",
       "    <tr>\n",
       "      <th>4</th>\n",
       "      <td>5</td>\n",
       "      <td>104.461264</td>\n",
       "      <td>29.889149</td>\n",
       "    </tr>\n",
       "  </tbody>\n",
       "</table>\n",
       "</div>"
      ],
      "text/plain": [
       "   Unnamed: 0          SP         WT\n",
       "0           1  104.185353  28.762059\n",
       "1           2  105.461264  30.466833\n",
       "2           3  105.461264  30.193597\n",
       "3           4  113.461264  30.632114\n",
       "4           5  104.461264  29.889149"
      ]
     },
     "execution_count": 31,
     "metadata": {},
     "output_type": "execute_result"
    }
   ],
   "source": [
    "Q9_b = pd.read_csv(\"Q9_b.csv\")\n",
    "Q9_b.head()"
   ]
  },
  {
   "cell_type": "code",
   "execution_count": 32,
   "id": "5a88c6ab",
   "metadata": {},
   "outputs": [
    {
     "name": "stdout",
     "output_type": "stream",
     "text": [
      "Skewness of the SP is:  1.61\n",
      "Kurtosis of the SP is:  2.98\n"
     ]
    }
   ],
   "source": [
    "skewness = np.round(Q9_b[\"SP\"].skew(),2)\n",
    "kurtosis = np.round(Q9_b[\"SP\"].kurtosis(),2)\n",
    "print(\"Skewness of the SP is: \", skewness)\n",
    "print(\"Kurtosis of the SP is: \", kurtosis)"
   ]
  },
  {
   "cell_type": "code",
   "execution_count": 33,
   "id": "79d47cd5",
   "metadata": {},
   "outputs": [
    {
     "name": "stdout",
     "output_type": "stream",
     "text": [
      "Skewness of the WT is:  -0.61\n",
      "Kurtosis of the WT is:  0.95\n"
     ]
    }
   ],
   "source": [
    "skewness = np.round(Q9_b[\"WT\"].skew(),2)\n",
    "kurtosis = np.round(Q9_b[\"WT\"].kurtosis(),2)\n",
    "print(\"Skewness of the WT is: \", skewness)\n",
    "print(\"Kurtosis of the WT is: \", kurtosis)"
   ]
  },
  {
   "cell_type": "code",
   "execution_count": null,
   "id": "1737c790",
   "metadata": {},
   "outputs": [],
   "source": []
  },
  {
   "cell_type": "markdown",
   "id": "2d1bf8c9",
   "metadata": {},
   "source": [
    "<b> Question 11 </b>"
   ]
  },
  {
   "cell_type": "code",
   "execution_count": 34,
   "id": "5eab8294",
   "metadata": {},
   "outputs": [
    {
     "name": "stdout",
     "output_type": "stream",
     "text": [
      "(198.7376089443071, 201.2623910556929)\n"
     ]
    }
   ],
   "source": [
    "con_94 = stats.t.interval(alpha=0.94, df=1999, loc=200, scale=30/np.sqrt(2000))\n",
    "print(con_94)"
   ]
  },
  {
   "cell_type": "code",
   "execution_count": 35,
   "id": "b43c3a49",
   "metadata": {},
   "outputs": [
    {
     "name": "stdout",
     "output_type": "stream",
     "text": [
      "(198.4381860483216, 201.5618139516784)\n"
     ]
    }
   ],
   "source": [
    "con_98 = stats.t.interval(alpha=0.98, df=1999, loc=200, scale=30/np.sqrt(2000))\n",
    "print(con_98)"
   ]
  },
  {
   "cell_type": "code",
   "execution_count": 36,
   "id": "4536cc95",
   "metadata": {},
   "outputs": [
    {
     "name": "stdout",
     "output_type": "stream",
     "text": [
      "(198.6214037429732, 201.3785962570268)\n"
     ]
    }
   ],
   "source": [
    "con_96 = stats.t.interval(alpha=0.96, df=1999, loc=200, scale=30/np.sqrt(2000))\n",
    "print(con_96)"
   ]
  },
  {
   "cell_type": "code",
   "execution_count": null,
   "id": "e49d112f",
   "metadata": {},
   "outputs": [],
   "source": []
  },
  {
   "cell_type": "markdown",
   "id": "b6ff1e41",
   "metadata": {},
   "source": [
    "<b> Question 12 </b>"
   ]
  },
  {
   "cell_type": "code",
   "execution_count": 37,
   "id": "3580981b",
   "metadata": {},
   "outputs": [
    {
     "name": "stdout",
     "output_type": "stream",
     "text": [
      "Mean :  41.0\n",
      "Median:  40.5\n",
      "Variance:  24.11111111111111\n",
      "Standard Deviation:  4.910306620885412\n"
     ]
    }
   ],
   "source": [
    "marks = [34,36,36,38,38,39,39,40,40,41,41,41,41,42,42,45,49,56]\n",
    "print(\"Mean : \",np.mean(marks))\n",
    "print(\"Median: \", np.median(marks))\n",
    "print(\"Variance: \", np.var(marks))\n",
    "print(\"Standard Deviation: \", np.std(marks))"
   ]
  },
  {
   "cell_type": "code",
   "execution_count": 38,
   "id": "29c146f2",
   "metadata": {},
   "outputs": [
    {
     "data": {
      "text/plain": [
       "(array([3., 2., 4., 6., 0., 1., 1., 0., 0., 1.]),\n",
       " array([34. , 36.2, 38.4, 40.6, 42.8, 45. , 47.2, 49.4, 51.6, 53.8, 56. ]),\n",
       " <BarContainer object of 10 artists>)"
      ]
     },
     "execution_count": 38,
     "metadata": {},
     "output_type": "execute_result"
    },
    {
     "data": {
      "image/png": "[encoded data removed]",
      "text/plain": [
       "<Figure size 640x480 with 1 Axes>"
      ]
     },
     "metadata": {},
     "output_type": "display_data"
    }
   ],
   "source": [
    "plt.hist(marks)"
   ]
  },
  {
   "cell_type": "code",
   "execution_count": 39,
   "id": "ff42bfdc",
   "metadata": {},
   "outputs": [
    {
     "data": {
      "text/plain": [
       "{'whiskers': [<matplotlib.lines.Line2D at 0x24ae6268e50>,\n",
       "  <matplotlib.lines.Line2D at 0x24ae6278160>],\n",
       " 'caps': [<matplotlib.lines.Line2D at 0x24ae6278430>,\n",
       "  <matplotlib.lines.Line2D at 0x24ae6278700>],\n",
       " 'boxes': [<matplotlib.lines.Line2D at 0x24ae6268b80>],\n",
       " 'medians': [<matplotlib.lines.Line2D at 0x24ae62789d0>],\n",
       " 'fliers': [<matplotlib.lines.Line2D at 0x24ae6278ca0>],\n",
       " 'means': []}"
      ]
     },
     "execution_count": 39,
     "metadata": {},
     "output_type": "execute_result"
    },
    {
     "data": {
      "image/png": "[encoded data removed]",
      "text/plain": [
       "<Figure size 640x480 with 1 Axes>"
      ]
     },
     "metadata": {},
     "output_type": "display_data"
    }
   ],
   "source": [
    "plt.boxplot(marks)"
   ]
  },
  {
   "cell_type": "code",
   "execution_count": null,
   "id": "e3d68891",
   "metadata": {},
   "outputs": [],
   "source": []
  },
  {
   "cell_type": "markdown",
   "id": "ed70b01f",
   "metadata": {},
   "source": [
    "<b>Q13) What is the nature of skewness when mean, median of data are equal?</b> <br>\n",
    "<font color=\"blue\">Ans: When the mean, median and mod of the data are equal, then distribution observed is Symmetrical. So, the distribution has approximately zero Skewness.</font> <br>\n",
    "\n",
    "<b>Q14) What is the nature of skewness when mean > median?</b> <br>\n",
    "<font color=\"blue\">Ans: When the mean > median, then the distribution of the data towards the left symmetrical area is denser than the right sided symmetrical area. So, the distribution of data is Positively Skewed. </font><br>\n",
    "\n",
    "<b>Q15) What is the nature of skewness when median > mean?</b> <br>\n",
    "<font color=\"blue\">Ans: When the median > mean, then the distribution of the data towards the right symmetrical area is denser than the left symmetrical area. So, the distribution of data is Positively Skewed.</font><br>\n",
    "\n",
    "<b>Q16) What does positive kurtosis value indicates for a data?</b> <br>\n",
    "<font color=\"blue\">Ans: A distribution with a positive kurtosis value indicates that the distribution has heavier tails and a sharper peak than the normal distribution. For example, data that follow a the distribution have a positive kurtosis value.</font> <br>\n",
    "\n",
    "<b>Q17) What does negative kurtosis value indicates for a data?</b> <br>\n",
    "<font color=\"blue\">Ans: A distribution with a negative kurtosis value indicates that the distribution has lighter tails and a flatter peak than the normal distribution. For example, data that follow a beta distribution with first and second shape parameters equal to 2 have a negative kurtosis value.</font>\n"
   ]
  },
  {
   "cell_type": "code",
   "execution_count": null,
   "id": "15be93a3",
   "metadata": {},
   "outputs": [],
   "source": []
  },
  {
   "cell_type": "code",
   "execution_count": null,
   "id": "e7717569",
   "metadata": {},
   "outputs": [],
   "source": []
  },
  {
   "cell_type": "markdown",
   "id": "3cb219a0",
   "metadata": {},
   "source": [
    "<b> Question 20 </b>"
   ]
  },
  {
   "cell_type": "code",
   "execution_count": 40,
   "id": "6baf908e",
   "metadata": {},
   "outputs": [
    {
     "data": {
      "text/html": [
       "<div>\n",
       "<style scoped>\n",
       "    .dataframe tbody tr th:only-of-type {\n",
       "        vertical-align: middle;\n",
       "    }\n",
       "\n",
       "    .dataframe tbody tr th {\n",
       "        vertical-align: top;\n",
       "    }\n",
       "\n",
       "    .dataframe thead th {\n",
       "        text-align: right;\n",
       "    }\n",
       "</style>\n",
       "<table border=\"1\" class=\"dataframe\">\n",
       "  <thead>\n",
       "    <tr style=\"text-align: right;\">\n",
       "      <th></th>\n",
       "      <th>HP</th>\n",
       "      <th>MPG</th>\n",
       "      <th>VOL</th>\n",
       "      <th>SP</th>\n",
       "      <th>WT</th>\n",
       "    </tr>\n",
       "  </thead>\n",
       "  <tbody>\n",
       "    <tr>\n",
       "      <th>0</th>\n",
       "      <td>49</td>\n",
       "      <td>53.700681</td>\n",
       "      <td>89</td>\n",
       "      <td>104.185353</td>\n",
       "      <td>28.762059</td>\n",
       "    </tr>\n",
       "    <tr>\n",
       "      <th>1</th>\n",
       "      <td>55</td>\n",
       "      <td>50.013401</td>\n",
       "      <td>92</td>\n",
       "      <td>105.461264</td>\n",
       "      <td>30.466833</td>\n",
       "    </tr>\n",
       "    <tr>\n",
       "      <th>2</th>\n",
       "      <td>55</td>\n",
       "      <td>50.013401</td>\n",
       "      <td>92</td>\n",
       "      <td>105.461264</td>\n",
       "      <td>30.193597</td>\n",
       "    </tr>\n",
       "    <tr>\n",
       "      <th>3</th>\n",
       "      <td>70</td>\n",
       "      <td>45.696322</td>\n",
       "      <td>92</td>\n",
       "      <td>113.461264</td>\n",
       "      <td>30.632114</td>\n",
       "    </tr>\n",
       "    <tr>\n",
       "      <th>4</th>\n",
       "      <td>53</td>\n",
       "      <td>50.504232</td>\n",
       "      <td>92</td>\n",
       "      <td>104.461264</td>\n",
       "      <td>29.889149</td>\n",
       "    </tr>\n",
       "  </tbody>\n",
       "</table>\n",
       "</div>"
      ],
      "text/plain": [
       "   HP        MPG  VOL          SP         WT\n",
       "0  49  53.700681   89  104.185353  28.762059\n",
       "1  55  50.013401   92  105.461264  30.466833\n",
       "2  55  50.013401   92  105.461264  30.193597\n",
       "3  70  45.696322   92  113.461264  30.632114\n",
       "4  53  50.504232   92  104.461264  29.889149"
      ]
     },
     "execution_count": 40,
     "metadata": {},
     "output_type": "execute_result"
    }
   ],
   "source": [
    "cars = pd.read_csv(\"Cars (1).csv\")\n",
    "cars.head()"
   ]
  },
  {
   "cell_type": "code",
   "execution_count": 41,
   "id": "03e3de40",
   "metadata": {},
   "outputs": [
    {
     "data": {
      "text/plain": [
       "(81, 5)"
      ]
     },
     "execution_count": 41,
     "metadata": {},
     "output_type": "execute_result"
    }
   ],
   "source": [
    "cars.shape"
   ]
  },
  {
   "cell_type": "code",
   "execution_count": 42,
   "id": "8fde4c6e",
   "metadata": {},
   "outputs": [
    {
     "name": "stdout",
     "output_type": "stream",
     "text": [
      "<class 'pandas.core.frame.DataFrame'>\n",
      "RangeIndex: 81 entries, 0 to 80\n",
      "Data columns (total 5 columns):\n",
      " #   Column  Non-Null Count  Dtype  \n",
      "---  ------  --------------  -----  \n",
      " 0   HP      81 non-null     int64  \n",
      " 1   MPG     81 non-null     float64\n",
      " 2   VOL     81 non-null     int64  \n",
      " 3   SP      81 non-null     float64\n",
      " 4   WT      81 non-null     float64\n",
      "dtypes: float64(3), int64(2)\n",
      "memory usage: 3.3 KB\n"
     ]
    }
   ],
   "source": [
    "cars.info()"
   ]
  },
  {
   "cell_type": "code",
   "execution_count": 43,
   "id": "e721ecbc",
   "metadata": {},
   "outputs": [
    {
     "data": {
      "text/plain": [
       "HP     0\n",
       "MPG    0\n",
       "VOL    0\n",
       "SP     0\n",
       "WT     0\n",
       "dtype: int64"
      ]
     },
     "execution_count": 43,
     "metadata": {},
     "output_type": "execute_result"
    }
   ],
   "source": [
    "cars.isnull().sum()"
   ]
  },
  {
   "cell_type": "code",
   "execution_count": null,
   "id": "57fb953e",
   "metadata": {},
   "outputs": [],
   "source": []
  },
  {
   "cell_type": "markdown",
   "id": "4daaf076",
   "metadata": {},
   "source": [
    "<font color=\"blue\">a) Probability of cars having MPG > 38 </font>"
   ]
  },
  {
   "cell_type": "code",
   "execution_count": 44,
   "id": "a6fda87b",
   "metadata": {},
   "outputs": [
    {
     "name": "stdout",
     "output_type": "stream",
     "text": [
      "[53.70068138, 50.01340115, 50.01340115, 45.69632238, 50.50423183, 45.69632238, 50.01340115, 46.71655428, 46.71655428, 42.29907817, 44.65283424, 39.3540941, 39.3540941, 44.65283424, 45.73489292, 44.65283424, 42.78990885, 39.3540941, 42.78990885, 38.90183397, 38.4110033, 42.8284794, 38.31060597, 40.47472334, 38.31060597, 38.4110033, 38.4110033, 38.4110033, 43.4694339, 39.4312352, 39.4312352, 39.53163253, 40.05]\n",
      "\n",
      " 33\n"
     ]
    }
   ],
   "source": [
    "#Printing total MPG > 38\n",
    "lst = []\n",
    "for i in cars[\"MPG\"]:\n",
    "    if i>38:\n",
    "        lst.append(i)\n",
    "print(lst)\n",
    "print(\"\\n\",len(lst))"
   ]
  },
  {
   "cell_type": "code",
   "execution_count": 45,
   "id": "fcceb836",
   "metadata": {},
   "outputs": [
    {
     "name": "stdout",
     "output_type": "stream",
     "text": [
      "Total cars are  81\n",
      "Total number of cars where MPG>38 are  33\n",
      "Probability of MPG>38 =  0.4074074074074074\n"
     ]
    }
   ],
   "source": [
    "#Probability of cars having MPG > 38\n",
    "print(\"Total cars are \",len(cars[\"MPG\"]))\n",
    "count = 0\n",
    "for i in cars[\"MPG\"]:\n",
    "    if i>38:\n",
    "        count+=1\n",
    "            \n",
    "print(\"Total number of cars where MPG>38 are \",count)\n",
    "\n",
    "print(\"Probability of MPG>38 = \", count/len(cars[\"MPG\"]))"
   ]
  },
  {
   "cell_type": "markdown",
   "id": "2c0e259e",
   "metadata": {},
   "source": [
    "<font color=\"blue\">b) Probability of cars having MPG < 40 </font>"
   ]
  },
  {
   "cell_type": "code",
   "execution_count": 46,
   "id": "95578be3",
   "metadata": {},
   "outputs": [
    {
     "name": "stdout",
     "output_type": "stream",
     "text": [
      "[39.3540941, 39.3540941, 39.3540941, 38.90183397, 38.4110033, 38.31060597, 38.31060597, 38.4110033, 38.4110033, 38.4110033, 35.40419245, 39.4312352, 39.4312352, 36.28545648, 36.28545648, 39.53163253, 37.95874317, 37.95874317, 34.07066829, 34.07066829, 31.01413094, 35.15272697, 35.15272697, 34.07066829, 35.15272697, 35.64355765, 34.56149897, 34.56149897, 35.05232964, 31.01413094, 29.62993595, 29.62993595, 29.62993595, 29.62993595, 24.48736667, 26.85227868, 27.85625194, 31.11358394, 29.62993595, 30.13192258, 28.8602252, 27.35426531, 24.60913156, 23.51591693, 23.51591693, 23.60515831, 23.10317168, 23.10317168, 23.10317168, 21.27370792, 19.67850666, 23.203569, 23.203569, 19.08634055, 19.08634055, 18.76283667, 36.9, 19.1978876, 34.0, 19.83373318, 12.10126289]\n",
      "\n",
      " 61\n"
     ]
    }
   ],
   "source": [
    "#Printing the total MPG < 40\n",
    "lst = []\n",
    "for i in cars[\"MPG\"]:\n",
    "    if i<40:\n",
    "        lst.append(i)\n",
    "print(lst)\n",
    "print(\"\\n\",len(lst))"
   ]
  },
  {
   "cell_type": "code",
   "execution_count": 47,
   "id": "5e0cadb1",
   "metadata": {},
   "outputs": [
    {
     "name": "stdout",
     "output_type": "stream",
     "text": [
      "Total cars are  81\n",
      "Total number of cars where MPG<40 are  61\n",
      "Probability of MPG<40 =  0.7530864197530864\n"
     ]
    }
   ],
   "source": [
    "#Probability of cars having MPG < 38\n",
    "print(\"Total cars are \",len(cars[\"MPG\"]))\n",
    "count = 0\n",
    "for i in cars[\"MPG\"]:\n",
    "    if i<40:\n",
    "        count+=1\n",
    "            \n",
    "print(\"Total number of cars where MPG<40 are \",count)\n",
    "\n",
    "print(\"Probability of MPG<40 = \", count/len(cars[\"MPG\"]))"
   ]
  },
  {
   "cell_type": "markdown",
   "id": "174917d6",
   "metadata": {},
   "source": [
    "<font color=\"blue\">c) Probability of cars having 20 < MPG < 50 </font>"
   ]
  },
  {
   "cell_type": "code",
   "execution_count": 48,
   "id": "63f22f90",
   "metadata": {},
   "outputs": [
    {
     "name": "stdout",
     "output_type": "stream",
     "text": [
      "[45.69632238, 45.69632238, 46.71655428, 46.71655428, 42.29907817, 44.65283424, 39.3540941, 39.3540941, 44.65283424, 45.73489292, 44.65283424, 42.78990885, 39.3540941, 42.78990885, 38.90183397, 38.4110033, 42.8284794, 38.31060597, 40.47472334, 38.31060597, 38.4110033, 38.4110033, 38.4110033, 43.4694339, 35.40419245, 39.4312352, 39.4312352, 36.28545648, 36.28545648, 39.53163253, 37.95874317, 37.95874317, 34.07066829, 34.07066829, 31.01413094, 35.15272697, 35.15272697, 34.07066829, 35.15272697, 35.64355765, 34.56149897, 34.56149897, 35.05232964, 31.01413094, 29.62993595, 29.62993595, 29.62993595, 29.62993595, 24.48736667, 26.85227868, 27.85625194, 31.11358394, 29.62993595, 30.13192258, 28.8602252, 27.35426531, 24.60913156, 23.51591693, 23.51591693, 23.60515831, 40.05, 23.10317168, 23.10317168, 23.10317168, 21.27370792, 23.203569, 23.203569, 36.9, 34.0]\n",
      "\n",
      " 69\n"
     ]
    }
   ],
   "source": [
    "#Printing total MPG lies between 20 and 50\n",
    "lst = []\n",
    "for i in cars[\"MPG\"]:\n",
    "    if i>20 and i<50:\n",
    "        lst.append(i)\n",
    "print(lst)\n",
    "print(\"\\n\",len(lst))"
   ]
  },
  {
   "cell_type": "code",
   "execution_count": 49,
   "id": "3ceaf9b4",
   "metadata": {},
   "outputs": [
    {
     "name": "stdout",
     "output_type": "stream",
     "text": [
      "Total cars are  81\n",
      "Total number of cars where 20<MPG<50 are  69\n",
      "Probability of 20<MPG<50 =  0.8518518518518519\n"
     ]
    }
   ],
   "source": [
    "#Probability of cars having 20 < MPG < 50\n",
    "print(\"Total cars are \",len(cars[\"MPG\"]))\n",
    "count = 0\n",
    "for i in range (len(cars[\"MPG\"])):\n",
    "    if cars[\"MPG\"][i] >20 and cars[\"MPG\"][i]<50:\n",
    "        count+=1\n",
    "            \n",
    "print(\"Total number of cars where 20<MPG<50 are \",count)\n",
    "\n",
    "print(\"Probability of 20<MPG<50 = \", count/len(cars[\"MPG\"]))"
   ]
  },
  {
   "cell_type": "markdown",
   "id": "930cbf33",
   "metadata": {},
   "source": [
    "<b> Question 21 </b>\n",
    "<br>\n",
    "<b> a) </b>\n"
   ]
  },
  {
   "cell_type": "code",
   "execution_count": 50,
   "id": "a6d97a98",
   "metadata": {},
   "outputs": [
    {
     "data": {
      "text/html": [
       "<div>\n",
       "<style scoped>\n",
       "    .dataframe tbody tr th:only-of-type {\n",
       "        vertical-align: middle;\n",
       "    }\n",
       "\n",
       "    .dataframe tbody tr th {\n",
       "        vertical-align: top;\n",
       "    }\n",
       "\n",
       "    .dataframe thead th {\n",
       "        text-align: right;\n",
       "    }\n",
       "</style>\n",
       "<table border=\"1\" class=\"dataframe\">\n",
       "  <thead>\n",
       "    <tr style=\"text-align: right;\">\n",
       "      <th></th>\n",
       "      <th>HP</th>\n",
       "      <th>MPG</th>\n",
       "      <th>VOL</th>\n",
       "      <th>SP</th>\n",
       "      <th>WT</th>\n",
       "    </tr>\n",
       "  </thead>\n",
       "  <tbody>\n",
       "    <tr>\n",
       "      <th>0</th>\n",
       "      <td>49</td>\n",
       "      <td>53.700681</td>\n",
       "      <td>89</td>\n",
       "      <td>104.185353</td>\n",
       "      <td>28.762059</td>\n",
       "    </tr>\n",
       "    <tr>\n",
       "      <th>1</th>\n",
       "      <td>55</td>\n",
       "      <td>50.013401</td>\n",
       "      <td>92</td>\n",
       "      <td>105.461264</td>\n",
       "      <td>30.466833</td>\n",
       "    </tr>\n",
       "    <tr>\n",
       "      <th>2</th>\n",
       "      <td>55</td>\n",
       "      <td>50.013401</td>\n",
       "      <td>92</td>\n",
       "      <td>105.461264</td>\n",
       "      <td>30.193597</td>\n",
       "    </tr>\n",
       "    <tr>\n",
       "      <th>3</th>\n",
       "      <td>70</td>\n",
       "      <td>45.696322</td>\n",
       "      <td>92</td>\n",
       "      <td>113.461264</td>\n",
       "      <td>30.632114</td>\n",
       "    </tr>\n",
       "    <tr>\n",
       "      <th>4</th>\n",
       "      <td>53</td>\n",
       "      <td>50.504232</td>\n",
       "      <td>92</td>\n",
       "      <td>104.461264</td>\n",
       "      <td>29.889149</td>\n",
       "    </tr>\n",
       "  </tbody>\n",
       "</table>\n",
       "</div>"
      ],
      "text/plain": [
       "   HP        MPG  VOL          SP         WT\n",
       "0  49  53.700681   89  104.185353  28.762059\n",
       "1  55  50.013401   92  105.461264  30.466833\n",
       "2  55  50.013401   92  105.461264  30.193597\n",
       "3  70  45.696322   92  113.461264  30.632114\n",
       "4  53  50.504232   92  104.461264  29.889149"
      ]
     },
     "execution_count": 50,
     "metadata": {},
     "output_type": "execute_result"
    }
   ],
   "source": [
    "cars = pd.read_csv(\"Cars (1).csv\")\n",
    "cars.head()"
   ]
  },
  {
   "cell_type": "code",
   "execution_count": 51,
   "id": "9722648d",
   "metadata": {},
   "outputs": [
    {
     "data": {
      "text/plain": [
       "(array([ 1.,  6., 10.,  4., 10., 15., 17.,  8.,  5.,  5.]),\n",
       " array([12.10126289, 16.26120474, 20.42114659, 24.58108844, 28.74103029,\n",
       "        32.90097213, 37.06091398, 41.22085583, 45.38079768, 49.54073953,\n",
       "        53.70068138]),\n",
       " <BarContainer object of 10 artists>)"
      ]
     },
     "execution_count": 51,
     "metadata": {},
     "output_type": "execute_result"
    },
    {
     "data": {
      "image/png": "[encoded data removed]",
      "text/plain": [
       "<Figure size 640x480 with 1 Axes>"
      ]
     },
     "metadata": {},
     "output_type": "display_data"
    }
   ],
   "source": [
    "plt.hist(cars[\"MPG\"], edgecolor='black', bins=10 )"
   ]
  },
  {
   "cell_type": "code",
   "execution_count": 52,
   "id": "ce8d566f",
   "metadata": {},
   "outputs": [
    {
     "data": {
      "image/png": "[encoded data removed]",
      "text/plain": [
       "<Figure size 640x480 with 1 Axes>"
      ]
     },
     "metadata": {},
     "output_type": "display_data"
    }
   ],
   "source": [
    "stats.probplot(cars[\"MPG\"], dist='norm', plot=plt)\n",
    "plt.xlabel(\"MPG\")\n",
    "plt.show()"
   ]
  },
  {
   "cell_type": "code",
   "execution_count": 53,
   "id": "860176f9",
   "metadata": {},
   "outputs": [
    {
     "name": "stdout",
     "output_type": "stream",
     "text": [
      "statistics=0.978,  p_value(p)=0.176\n",
      "fail to reject null hypothesis H0, data is Normaly Distributed\n"
     ]
    }
   ],
   "source": [
    "#------------------Shapiro-Will Test:-------------------------\n",
    "#Null Hypothesis (H0): The distribution of data is not Normal\n",
    "#Alternate Hypothesis (H1): The distribution of is Normal\n",
    "#p <= alpha: reject H0, not normal\n",
    "#p > aplha: fail to reject H0, normal\n",
    "\n",
    "from scipy.stats import shapiro\n",
    "\n",
    "stat, p = shapiro(cars[\"MPG\"])\n",
    "print(\"statistics=%.3f,  p_value(p)=%.3f\" %(stat,p))\n",
    "alpha = 0.05\n",
    "\n",
    "if p>=alpha:\n",
    "    print(\"fail to reject null hypothesis H0, data is Normaly Distributed\")\n",
    "else:\n",
    "    print(\"reject null hypothesis, data is not Normally Distributed\")"
   ]
  },
  {
   "cell_type": "markdown",
   "id": "7f792be7",
   "metadata": {},
   "source": [
    "<b> b) </b> <br>\n",
    "Checking Normality of Waist Data"
   ]
  },
  {
   "cell_type": "code",
   "execution_count": 54,
   "id": "6e8b7546",
   "metadata": {},
   "outputs": [
    {
     "data": {
      "text/html": [
       "<div>\n",
       "<style scoped>\n",
       "    .dataframe tbody tr th:only-of-type {\n",
       "        vertical-align: middle;\n",
       "    }\n",
       "\n",
       "    .dataframe tbody tr th {\n",
       "        vertical-align: top;\n",
       "    }\n",
       "\n",
       "    .dataframe thead th {\n",
       "        text-align: right;\n",
       "    }\n",
       "</style>\n",
       "<table border=\"1\" class=\"dataframe\">\n",
       "  <thead>\n",
       "    <tr style=\"text-align: right;\">\n",
       "      <th></th>\n",
       "      <th>Waist</th>\n",
       "      <th>AT</th>\n",
       "    </tr>\n",
       "  </thead>\n",
       "  <tbody>\n",
       "    <tr>\n",
       "      <th>0</th>\n",
       "      <td>74.75</td>\n",
       "      <td>25.72</td>\n",
       "    </tr>\n",
       "    <tr>\n",
       "      <th>1</th>\n",
       "      <td>72.60</td>\n",
       "      <td>25.89</td>\n",
       "    </tr>\n",
       "    <tr>\n",
       "      <th>2</th>\n",
       "      <td>81.80</td>\n",
       "      <td>42.60</td>\n",
       "    </tr>\n",
       "    <tr>\n",
       "      <th>3</th>\n",
       "      <td>83.95</td>\n",
       "      <td>42.80</td>\n",
       "    </tr>\n",
       "    <tr>\n",
       "      <th>4</th>\n",
       "      <td>74.65</td>\n",
       "      <td>29.84</td>\n",
       "    </tr>\n",
       "  </tbody>\n",
       "</table>\n",
       "</div>"
      ],
      "text/plain": [
       "   Waist     AT\n",
       "0  74.75  25.72\n",
       "1  72.60  25.89\n",
       "2  81.80  42.60\n",
       "3  83.95  42.80\n",
       "4  74.65  29.84"
      ]
     },
     "execution_count": 54,
     "metadata": {},
     "output_type": "execute_result"
    }
   ],
   "source": [
    "data = pd.read_csv(\"wc-at.csv\")\n",
    "data.head()"
   ]
  },
  {
   "cell_type": "code",
   "execution_count": 55,
   "id": "fa132d05",
   "metadata": {},
   "outputs": [
    {
     "data": {
      "text/plain": [
       "(array([ 2.,  9., 19., 17., 11.,  9., 13., 21.,  5.,  3.]),\n",
       " array([ 63.5 ,  69.25,  75.  ,  80.75,  86.5 ,  92.25,  98.  , 103.75,\n",
       "        109.5 , 115.25, 121.  ]),\n",
       " <BarContainer object of 10 artists>)"
      ]
     },
     "execution_count": 55,
     "metadata": {},
     "output_type": "execute_result"
    },
    {
     "data": {
      "image/png": "[encoded data removed]",
      "text/plain": [
       "<Figure size 640x480 with 1 Axes>"
      ]
     },
     "metadata": {},
     "output_type": "display_data"
    }
   ],
   "source": [
    "plt.hist(data[\"Waist\"], edgecolor='black', bins=10 )"
   ]
  },
  {
   "cell_type": "code",
   "execution_count": 56,
   "id": "d387f52d",
   "metadata": {},
   "outputs": [
    {
     "data": {
      "image/png": "[encoded data removed]",
      "text/plain": [
       "<Figure size 640x480 with 1 Axes>"
      ]
     },
     "metadata": {},
     "output_type": "display_data"
    }
   ],
   "source": [
    "stats.probplot(data[\"Waist\"], dist='norm', plot=plt)\n",
    "plt.xlabel(\"Waist\")\n",
    "plt.show()"
   ]
  },
  {
   "cell_type": "code",
   "execution_count": 57,
   "id": "42ed61df",
   "metadata": {},
   "outputs": [
    {
     "name": "stdout",
     "output_type": "stream",
     "text": [
      "statistics=0.956,  p_value(p)=0.001\n",
      "reject null hypothesis, data is not Normaly Distributed\n"
     ]
    }
   ],
   "source": [
    "#------------------Shapiro-Will Test:-------------------------\n",
    "#Null Hypothesis (H0): The distribution of data is not Normal\n",
    "#Alternate Hypothesis (H1): The distribution of is Normal\n",
    "#p <= alpha: reject H0, not normal\n",
    "#p > aplha: fail to reject H0, normal\n",
    "\n",
    "from scipy.stats import shapiro\n",
    "\n",
    "stat, p = shapiro(data[\"Waist\"])\n",
    "print(\"statistics=%.3f,  p_value(p)=%.3f\" %(stat,p))\n",
    "alpha = 0.05\n",
    "\n",
    "if p>=alpha:\n",
    "    print(\"fail to reject null hypothesis H0, data is Normaly Distributed\")\n",
    "else:\n",
    "    print(\"reject null hypothesis, data is not Normaly Distributed\")"
   ]
  },
  {
   "cell_type": "markdown",
   "id": "e637d52c",
   "metadata": {},
   "source": [
    "Checking Normality of AT"
   ]
  },
  {
   "cell_type": "code",
   "execution_count": 58,
   "id": "9fb98374",
   "metadata": {},
   "outputs": [
    {
     "data": {
      "text/plain": [
       "(array([14., 18., 16., 13., 17., 14.,  4.,  6.,  3.,  4.]),\n",
       " array([ 11.44 ,  35.596,  59.752,  83.908, 108.064, 132.22 , 156.376,\n",
       "        180.532, 204.688, 228.844, 253.   ]),\n",
       " <BarContainer object of 10 artists>)"
      ]
     },
     "execution_count": 58,
     "metadata": {},
     "output_type": "execute_result"
    },
    {
     "data": {
      "image/png": "[encoded data removed]",
      "text/plain": [
       "<Figure size 640x480 with 1 Axes>"
      ]
     },
     "metadata": {},
     "output_type": "display_data"
    }
   ],
   "source": [
    "plt.hist(data[\"AT\"], edgecolor='black', bins=10 )"
   ]
  },
  {
   "cell_type": "code",
   "execution_count": 59,
   "id": "1897e85f",
   "metadata": {},
   "outputs": [
    {
     "data": {
      "image/png": "[encoded data removed]",
      "text/plain": [
       "<Figure size 640x480 with 1 Axes>"
      ]
     },
     "metadata": {},
     "output_type": "display_data"
    }
   ],
   "source": [
    "stats.probplot(data[\"Waist\"], dist='norm', plot=plt)\n",
    "plt.xlabel(\"Waist\")\n",
    "plt.show()"
   ]
  },
  {
   "cell_type": "code",
   "execution_count": 60,
   "id": "b94d9db4",
   "metadata": {},
   "outputs": [
    {
     "name": "stdout",
     "output_type": "stream",
     "text": [
      "statistics=0.952,  p_value(p)=0.001\n",
      "reject null hypothesis H0, data is not Normaly Distributed\n"
     ]
    }
   ],
   "source": [
    "#------------------Shapiro-Will Test:-------------------------\n",
    "#Null Hypothesis (H0): The distribution of data is not Normal\n",
    "#Alternate Hypothesis (H1): The distribution of is Normal\n",
    "#p <= alpha: reject H0, not normal\n",
    "#p > aplha: fail to reject H0, normal\n",
    "\n",
    "from scipy.stats import shapiro\n",
    "\n",
    "stat, p = shapiro(data[\"AT\"])\n",
    "print(\"statistics=%.3f,  p_value(p)=%.3f\" %(stat,p))\n",
    "alpha = 0.05\n",
    "\n",
    "if p>=alpha:\n",
    "    print(\"fail to reject null hypothesis H0, data is Normaly Distributed\")\n",
    "else:\n",
    "    print(\"reject null hypothesis H0, data is not Normaly Distributed\")"
   ]
  },
  {
   "cell_type": "code",
   "execution_count": null,
   "id": "2969f0e8",
   "metadata": {},
   "outputs": [],
   "source": []
  },
  {
   "cell_type": "markdown",
   "id": "fb503fd6",
   "metadata": {},
   "source": [
    "<b> Question 22</b>"
   ]
  },
  {
   "cell_type": "code",
   "execution_count": 61,
   "id": "f90106ca",
   "metadata": {},
   "outputs": [
    {
     "name": "stdout",
     "output_type": "stream",
     "text": [
      "for 90%:  -1.6448536269514729\n",
      "\n",
      "for 94%:  -1.880793608151251\n",
      "\n",
      "for 60%:  -0.8416212335729142\n"
     ]
    }
   ],
   "source": [
    "from scipy import stats\n",
    "from scipy.stats import norm\n",
    "\n",
    "#Z-score of 90% of confidence intervel\n",
    "print(\"for 90%: \",stats.norm.ppf(0.05))\n",
    "\n",
    "#Z-score of 94% of confidence intervel\n",
    "print(\"\\nfor 94%: \",stats.norm.ppf(0.03))\n",
    "\n",
    "#Z-score of 60% of confidence intervel\n",
    "print(\"\\nfor 60%: \",stats.norm.ppf(0.2))\n",
    "\n"
   ]
  },
  {
   "cell_type": "code",
   "execution_count": null,
   "id": "652b4571",
   "metadata": {},
   "outputs": [],
   "source": []
  },
  {
   "cell_type": "markdown",
   "id": "16bd9969",
   "metadata": {},
   "source": [
    "<b> Question 23 </b>"
   ]
  },
  {
   "cell_type": "code",
   "execution_count": 62,
   "id": "aea99968",
   "metadata": {},
   "outputs": [
    {
     "name": "stdout",
     "output_type": "stream",
     "text": [
      "-2.063898561628021\n"
     ]
    }
   ],
   "source": [
    "''' given n = 25\n",
    "    df = n-1 = 24\n",
    "    '''\n",
    "#t_score of confidence interval of 95%\n",
    "print(stats.t.ppf(0.025, 24))"
   ]
  },
  {
   "cell_type": "code",
   "execution_count": 63,
   "id": "1d6ca1cc",
   "metadata": {},
   "outputs": [
    {
     "name": "stdout",
     "output_type": "stream",
     "text": [
      "-1.9739942888471331\n"
     ]
    }
   ],
   "source": [
    "#t_score of confidence interval of 96%\n",
    "print(stats.t.ppf(0.03, 24))"
   ]
  },
  {
   "cell_type": "code",
   "execution_count": 64,
   "id": "f987eb5c",
   "metadata": {},
   "outputs": [
    {
     "name": "stdout",
     "output_type": "stream",
     "text": [
      "-2.796939504772805\n"
     ]
    }
   ],
   "source": [
    "#t_score of confidence interval of 99%\n",
    "print(stats.t.ppf(0.005, 24))"
   ]
  },
  {
   "cell_type": "code",
   "execution_count": null,
   "id": "c46ead85",
   "metadata": {},
   "outputs": [],
   "source": []
  },
  {
   "cell_type": "markdown",
   "id": "0da54639",
   "metadata": {},
   "source": [
    "<b> Question 24 </b>"
   ]
  },
  {
   "cell_type": "code",
   "execution_count": 65,
   "id": "f36bedb6",
   "metadata": {},
   "outputs": [
    {
     "data": {
      "text/plain": [
       "-0.4714045207910317"
      ]
     },
     "execution_count": 65,
     "metadata": {},
     "output_type": "execute_result"
    }
   ],
   "source": [
    "#Null Hypothesis (H0): Average life of bulb >= 260\n",
    "#Alternate Hypothesis (H1): Avearge life of bulb < 260 \n",
    "\n",
    "'''\n",
    "given, sample mean (sm) = 260\n",
    "        population mean (pm) = 270\n",
    "        std-dev = 90\n",
    "        n = 18\n",
    "        df = 17'''\n",
    "\n",
    "t = (260-270)/(90/18**0.5)\n",
    "t\n"
   ]
  },
  {
   "cell_type": "code",
   "execution_count": 66,
   "id": "7d0e9494",
   "metadata": {},
   "outputs": [
    {
     "data": {
      "text/plain": [
       "0.32167253567098353"
      ]
     },
     "execution_count": 66,
     "metadata": {},
     "output_type": "execute_result"
    }
   ],
   "source": [
    "#Probability of life of bulb >= 260\n",
    "p_value = 1 - stats.t.cdf(abs(t), df=17)\n",
    "p_value"
   ]
  },
  {
   "cell_type": "code",
   "execution_count": 67,
   "id": "e9a6700c",
   "metadata": {},
   "outputs": [
    {
     "name": "stdout",
     "output_type": "stream",
     "text": [
      "Probability bulbs which do not have average life of no more than 260 days:  0.6783274643290165\n"
     ]
    }
   ],
   "source": [
    "print(\"Probability bulbs which do not have average life of no more than 260 days: \", 1-p_value)"
   ]
  },
  {
   "cell_type": "code",
   "execution_count": null,
   "id": "3dcf5978",
   "metadata": {},
   "outputs": [],
   "source": []
  },
  {
   "cell_type": "code",
   "execution_count": null,
   "id": "3e61222e",
   "metadata": {},
   "outputs": [],
   "source": []
  },
  {
   "cell_type": "code",
   "execution_count": null,
   "id": "6d5f560c",
   "metadata": {},
   "outputs": [],
   "source": []
  }
 ],
 "metadata": {
  "kernelspec": {
   "display_name": "Python 3 (ipykernel)",
   "language": "python",
   "name": "python3"
  },
  "language_info": {
   "codemirror_mode": {
    "name": "ipython",
    "version": 3
   },
   "file_extension": ".py",
   "mimetype": "text/x-python",
   "name": "python",
   "nbconvert_exporter": "python",
   "pygments_lexer": "ipython3",
   "version": "3.9.13"
  }
 },
 "nbformat": 4,
 "nbformat_minor": 5
}
