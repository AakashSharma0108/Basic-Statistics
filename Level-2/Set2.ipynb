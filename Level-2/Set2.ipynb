{
 "cells": [
  {
   "cell_type": "code",
   "execution_count": 3,
   "id": "8216645c",
   "metadata": {},
   "outputs": [],
   "source": [
    "import pandas as pd\n",
    "import numpy as np\n",
    "import scipy.stats as stats\n",
    "import warnings\n",
    "warnings.filterwarnings('ignore')"
   ]
  },
  {
   "cell_type": "code",
   "execution_count": null,
   "id": "437e84d9",
   "metadata": {},
   "outputs": [],
   "source": []
  },
  {
   "cell_type": "markdown",
   "id": "daf635af",
   "metadata": {},
   "source": [
    "Question 1"
   ]
  },
  {
   "cell_type": "code",
   "execution_count": 14,
   "id": "b62c47ba",
   "metadata": {},
   "outputs": [
    {
     "name": "stdout",
     "output_type": "stream",
     "text": [
      "0.26598552904870054\n"
     ]
    }
   ],
   "source": [
    "mean = 45\n",
    "new_mean = 45+10\n",
    "std = 8\n",
    "prob = stats.norm.sf(60, loc = new_mean, scale=std)\n",
    "print(prob)"
   ]
  },
  {
   "cell_type": "code",
   "execution_count": null,
   "id": "18500dd2",
   "metadata": {},
   "outputs": [],
   "source": []
  },
  {
   "cell_type": "markdown",
   "id": "3127f3bb",
   "metadata": {},
   "source": [
    "Question 2"
   ]
  },
  {
   "cell_type": "code",
   "execution_count": 5,
   "id": "8be6d3bd",
   "metadata": {},
   "outputs": [
    {
     "name": "stdout",
     "output_type": "stream",
     "text": [
      "Probability less than 38:  0.5\n"
     ]
    }
   ],
   "source": [
    "mean = 38\n",
    "std = 6\n",
    "emp_less_38 = stats.norm.cdf(38, loc=mean, scale = std)\n",
    "print(\"Probability of age less than 38: \", emp_less_38)\n"
   ]
  },
  {
   "cell_type": "code",
   "execution_count": 6,
   "id": "10111a28",
   "metadata": {},
   "outputs": [
    {
     "name": "stdout",
     "output_type": "stream",
     "text": [
      "Probability of age less than 44:  0.8413447460685429\n"
     ]
    }
   ],
   "source": [
    "emp_less_44 = stats.norm.cdf(44, loc=mean, scale=std)\n",
    "print(\"Probability of age less than 44: \",emp_less_44)"
   ]
  },
  {
   "cell_type": "code",
   "execution_count": 9,
   "id": "0b08a2e6",
   "metadata": {},
   "outputs": [
    {
     "name": "stdout",
     "output_type": "stream",
     "text": [
      "Probabilityof age between 44 and 38:  0.3413447460685429 and % = 34.13\n"
     ]
    }
   ],
   "source": [
    "emp_bt_38_44 = emp_less_44 - emp_less_38\n",
    "print(\"Probability of age between 44 and 38: \",emp_bt_38_44, \"and % =\",np.round(emp_bt_38_44*100, 2))"
   ]
  },
  {
   "cell_type": "code",
   "execution_count": 10,
   "id": "643d9b3a",
   "metadata": {},
   "outputs": [
    {
     "name": "stdout",
     "output_type": "stream",
     "text": [
      "probability of age more than 44:  0.15865525393145707 and % = 15.87\n"
     ]
    }
   ],
   "source": [
    "emp_more_44 = 1 - stats.norm.cdf(44, loc=mean, scale=std)\n",
    "print(\"probability of age more than 44: \",emp_more_44, \"and % =\", np.round(emp_more_44*100,2))"
   ]
  },
  {
   "cell_type": "code",
   "execution_count": 11,
   "id": "22980786",
   "metadata": {},
   "outputs": [
    {
     "name": "stdout",
     "output_type": "stream",
     "text": [
      "False\n"
     ]
    }
   ],
   "source": [
    "#a)\n",
    "if emp_more_44 > emp_bt_38_44:\n",
    "    print(\"True\")\n",
    "else:\n",
    "    print(\"False\")"
   ]
  },
  {
   "cell_type": "code",
   "execution_count": 13,
   "id": "db8f798f",
   "metadata": {},
   "outputs": [
    {
     "name": "stdout",
     "output_type": "stream",
     "text": [
      "Training program for employees under the age of 30 would be expected  36.0  about employees\n"
     ]
    }
   ],
   "source": [
    "#b)\n",
    "sample_p = stats.norm.cdf(30, loc=mean, scale=std)\n",
    "print(\"Training program for employees under the age of 30 would be expected \",np.round(sample_p*400,0),\" about employees\")"
   ]
  },
  {
   "cell_type": "code",
   "execution_count": null,
   "id": "aa4ca4d7",
   "metadata": {},
   "outputs": [],
   "source": []
  },
  {
   "cell_type": "markdown",
   "id": "b558e57f",
   "metadata": {},
   "source": [
    "Question 3: <br> <br>\n",
    "Solved in .doc file"
   ]
  },
  {
   "cell_type": "code",
   "execution_count": null,
   "id": "d56b2a75",
   "metadata": {},
   "outputs": [],
   "source": []
  },
  {
   "cell_type": "markdown",
   "id": "c536fc85",
   "metadata": {},
   "source": [
    "Question 4"
   ]
  },
  {
   "cell_type": "code",
   "execution_count": 15,
   "id": "eaa90b02",
   "metadata": {},
   "outputs": [],
   "source": [
    "mean = 100\n",
    "std = 20"
   ]
  },
  {
   "cell_type": "code",
   "execution_count": 16,
   "id": "dea4d52a",
   "metadata": {},
   "outputs": [
    {
     "name": "stdout",
     "output_type": "stream",
     "text": [
      "[ 48.48 151.52]\n"
     ]
    }
   ],
   "source": [
    "interval = np.round(stats.norm.interval(0.99, loc=mean, scale=std),2)\n",
    "print(interval)"
   ]
  },
  {
   "cell_type": "code",
   "execution_count": null,
   "id": "85432890",
   "metadata": {},
   "outputs": [],
   "source": []
  },
  {
   "cell_type": "markdown",
   "id": "45f2f994",
   "metadata": {},
   "source": [
    "Question 5"
   ]
  },
  {
   "cell_type": "code",
   "execution_count": 30,
   "id": "7393fdb5",
   "metadata": {},
   "outputs": [
    {
     "name": "stdout",
     "output_type": "stream",
     "text": [
      "mean profit of the both divisions:  12 millions\n",
      "INR:  54.0 crores\n"
     ]
    }
   ],
   "source": [
    "mean1 = 5\n",
    "mean2 = 7\n",
    "mean = mean1 + mean2\n",
    "print(\"mean profit of the both divisions: \", mean, \"millions\")\n",
    "print(\"INR: \", (mean*45)/10, \"crores\")"
   ]
  },
  {
   "cell_type": "code",
   "execution_count": 31,
   "id": "f0007d22",
   "metadata": {},
   "outputs": [
    {
     "name": "stdout",
     "output_type": "stream",
     "text": [
      "Standard deviation of both dividons:,  5.0 millions\n",
      "INR:  22.5 crores\n"
     ]
    }
   ],
   "source": [
    "std_dv1 = 3**2\n",
    "std_dv2 = 4**2\n",
    "std = np.sqrt(std_dv1 + std_dv2)\n",
    "print(\"Standard deviation of both dividons:, \", std, \"millions\")\n",
    "print(\"INR: \", (std*45)/10, \"crores\")"
   ]
  },
  {
   "cell_type": "code",
   "execution_count": 32,
   "id": "3e9ad478",
   "metadata": {},
   "outputs": [
    {
     "name": "stdout",
     "output_type": "stream",
     "text": [
      "2.2\n",
      "21.8\n"
     ]
    }
   ],
   "source": [
    "r1, r2 = np.round(stats.norm.interval(0.95, loc=mean, scale=std), 2)\n",
    "print(r1)\n",
    "print(r2)"
   ]
  },
  {
   "cell_type": "code",
   "execution_count": 33,
   "id": "7d6dbb8b",
   "metadata": {},
   "outputs": [
    {
     "name": "stdout",
     "output_type": "stream",
     "text": [
      "Profit ranges from  9.9 to 98.0 crores rupees in annual profit of 95% of the time\n"
     ]
    }
   ],
   "source": [
    "r1 = np.round((r1*45)/10,2)\n",
    "r2 = np.round((r2*45)/10)\n",
    "print(\"Profit ranges from \",r1, \"to\", r2, \"crores rupees in annual profit of 95% of the time\")"
   ]
  },
  {
   "cell_type": "code",
   "execution_count": 35,
   "id": "a80a270d",
   "metadata": {},
   "outputs": [
    {
     "data": {
      "text/plain": [
       "3.7757318652426353"
      ]
     },
     "execution_count": 35,
     "metadata": {},
     "output_type": "execute_result"
    }
   ],
   "source": [
    "#b)\n",
    "fifth_per = (stats.norm.ppf(0.05) * 5) + mean\n",
    "fifth_per"
   ]
  },
  {
   "cell_type": "code",
   "execution_count": 38,
   "id": "a1be4803",
   "metadata": {},
   "outputs": [
    {
     "name": "stdout",
     "output_type": "stream",
     "text": [
      "Fifth percentile of Profit for the compnay is,  3.78 million\n",
      "INR: 16.99 crores\n"
     ]
    }
   ],
   "source": [
    "print(\"Fifth percentile of Profit for the compnay is, \", np.round(fifth_per,2), \"million\")\n",
    "print(\"INR:\", np.round((fifth_per*45)/10,2), \"crores\")"
   ]
  },
  {
   "cell_type": "code",
   "execution_count": 39,
   "id": "94ccf93f",
   "metadata": {},
   "outputs": [
    {
     "name": "stdout",
     "output_type": "stream",
     "text": [
      "Probability of loss of Division 1:  0.0477903522728147\n",
      "Probability of loss of Division 2:  0.040059156863817086\n"
     ]
    }
   ],
   "source": [
    "#c)\n",
    "div1 = stats.norm.cdf(0,5,3)\n",
    "div2 = stats.norm.cdf(0,7,4)\n",
    "print(\"Probability of loss of Division 1: \", div1)\n",
    "print(\"Probability of loss of Division 2: \", div2)"
   ]
  },
  {
   "cell_type": "code",
   "execution_count": 43,
   "id": "eaa6c61c",
   "metadata": {},
   "outputs": [
    {
     "name": "stdout",
     "output_type": "stream",
     "text": [
      "Division 1 has more Probability of making loss by 4.78 %\n"
     ]
    }
   ],
   "source": [
    "if div1>div2:\n",
    "    print(\"Division 1 has more Probability of making loss by\", np.round(div1*100, 2),\"%\")\n",
    "else:\n",
    "    print(\"Division 2 has more probability of making loss\", np.round(div2*100, 2), \"%\")"
   ]
  },
  {
   "cell_type": "code",
   "execution_count": null,
   "id": "1b2f0ee9",
   "metadata": {},
   "outputs": [],
   "source": []
  },
  {
   "cell_type": "code",
   "execution_count": null,
   "id": "9dafc0f7",
   "metadata": {},
   "outputs": [],
   "source": []
  }
 ],
 "metadata": {
  "kernelspec": {
   "display_name": "Python 3 (ipykernel)",
   "language": "python",
   "name": "python3"
  },
  "language_info": {
   "codemirror_mode": {
    "name": "ipython",
    "version": 3
   },
   "file_extension": ".py",
   "mimetype": "text/x-python",
   "name": "python",
   "nbconvert_exporter": "python",
   "pygments_lexer": "ipython3",
   "version": "3.9.13"
  }
 },
 "nbformat": 4,
 "nbformat_minor": 5
}
