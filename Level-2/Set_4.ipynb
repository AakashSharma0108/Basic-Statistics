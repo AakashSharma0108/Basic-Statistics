{
 "cells": [
  {
   "cell_type": "code",
   "execution_count": null,
   "id": "6a12990d",
   "metadata": {},
   "outputs": [],
   "source": []
  },
  {
   "cell_type": "code",
   "execution_count": 1,
   "id": "f92e4a0b",
   "metadata": {},
   "outputs": [],
   "source": [
    "import pandas as pd\n",
    "import numpy as np\n",
    "import warnings\n",
    "warnings.filterwarnings(\"ignore\")\n",
    "import scipy.stats as stats\n",
    "import statsmodels.api as smf\n",
    "\n"
   ]
  },
  {
   "cell_type": "markdown",
   "id": "165e061f",
   "metadata": {},
   "source": [
    "Question 3:"
   ]
  },
  {
   "cell_type": "code",
   "execution_count": null,
   "id": "b675ebaa",
   "metadata": {},
   "outputs": [],
   "source": []
  },
  {
   "cell_type": "code",
   "execution_count": null,
   "id": "67c0d0da",
   "metadata": {},
   "outputs": [],
   "source": []
  },
  {
   "cell_type": "code",
   "execution_count": 36,
   "id": "721e3064",
   "metadata": {},
   "outputs": [
    {
     "name": "stdout",
     "output_type": "stream",
     "text": [
      "The probability that there would be no investigation:  21.42 %\n"
     ]
    }
   ],
   "source": [
    "mean = 50\n",
    "std_dev = 40\n",
    "n = 100\n",
    "df = n-1\n",
    "\n",
    "t_45 = (45-50)/(40/np.sqrt(100))\n",
    "t_55 = (55-50)/(40/np.sqrt(100))\n",
    "\n",
    "P_45 = stats.t.cdf(t_45, df=df)\n",
    "P_55 = stats.t.cdf(t_55, df=df)\n",
    "\n",
    "prob = P_55 - P_45\n",
    "\n",
    "print(\"The probability that there would be no investigation: \", np.round((1-prob)*100, 2),\"%\")\n"
   ]
  },
  {
   "cell_type": "code",
   "execution_count": null,
   "id": "20556a8e",
   "metadata": {},
   "outputs": [],
   "source": []
  },
  {
   "cell_type": "code",
   "execution_count": 37,
   "id": "1684684f",
   "metadata": {},
   "outputs": [
    {
     "name": "stdout",
     "output_type": "stream",
     "text": [
      "To maintain the probability of investigation to 5% without changing the threshold, 252.0 transaction should be maintained\n"
     ]
    }
   ],
   "source": [
    "std = 40\n",
    "mean = 50\n",
    "\n",
    "t = stats.t.ppf(0.025, df = df)\n",
    "n = np.round(((std*abs(t))/(5))**2,)\n",
    "print(\"To maintain the probability of investigation to 5% without changing the threshold,\",n, \"transaction should be maintained\")"
   ]
  },
  {
   "cell_type": "code",
   "execution_count": 23,
   "id": "a2b2ade0",
   "metadata": {},
   "outputs": [
    {
     "data": {
      "text/plain": [
       "252.0"
      ]
     },
     "execution_count": 23,
     "metadata": {},
     "output_type": "execute_result"
    }
   ],
   "source": [
    "n"
   ]
  },
  {
   "cell_type": "code",
   "execution_count": 24,
   "id": "485eab98",
   "metadata": {},
   "outputs": [
    {
     "data": {
      "text/plain": [
       "99"
      ]
     },
     "execution_count": 24,
     "metadata": {},
     "output_type": "execute_result"
    }
   ],
   "source": [
    "df"
   ]
  },
  {
   "cell_type": "code",
   "execution_count": 35,
   "id": "81c91b61",
   "metadata": {},
   "outputs": [
    {
     "data": {
      "text/plain": [
       "array([45., 55.])"
      ]
     },
     "execution_count": 35,
     "metadata": {},
     "output_type": "execute_result"
    }
   ],
   "source": [
    "np.round(stats.t.interval(alpha = 0.95, df = df, loc = mean, scale = std/np.sqrt(n)),1)"
   ]
  },
  {
   "cell_type": "code",
   "execution_count": null,
   "id": "3a6a8b66",
   "metadata": {},
   "outputs": [],
   "source": []
  },
  {
   "cell_type": "code",
   "execution_count": null,
   "id": "194808d5",
   "metadata": {},
   "outputs": [],
   "source": []
  }
 ],
 "metadata": {
  "kernelspec": {
   "display_name": "Python 3 (ipykernel)",
   "language": "python",
   "name": "python3"
  },
  "language_info": {
   "codemirror_mode": {
    "name": "ipython",
    "version": 3
   },
   "file_extension": ".py",
   "mimetype": "text/x-python",
   "name": "python",
   "nbconvert_exporter": "python",
   "pygments_lexer": "ipython3",
   "version": "3.9.13"
  }
 },
 "nbformat": 4,
 "nbformat_minor": 5
}
